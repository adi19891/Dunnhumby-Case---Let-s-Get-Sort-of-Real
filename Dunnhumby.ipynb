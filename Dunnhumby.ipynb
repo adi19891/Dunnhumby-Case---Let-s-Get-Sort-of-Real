{
 "cells": [
  {
   "cell_type": "markdown",
   "metadata": {},
   "source": [
    "# Basics of Customer Segmentation in Python"
   ]
  },
  {
   "cell_type": "markdown",
   "metadata": {},
   "source": [
    "### In this tutorial we would implement customer segmentation using RFM(Recency, Frequency, Monetary, Consistency) analysis from scratch and introduction to Kmeans in Python.\n"
   ]
  },
  {
   "cell_type": "markdown",
   "metadata": {},
   "source": [
    "## Dunnhumby Case Notebook"
   ]
  },
  {
   "cell_type": "code",
   "execution_count": 625,
   "metadata": {},
   "outputs": [
    {
     "data": {
      "text/html": [
       "<script>\n",
       "code_show=true; \n",
       "function code_toggle() {\n",
       " if (code_show){\n",
       " $('div.input').hide();\n",
       " } else {\n",
       " $('div.input').show();\n",
       " }\n",
       " code_show = !code_show\n",
       "} \n",
       "$( document ).ready(code_toggle);\n",
       "</script>\n",
       "<form action=\"javascript:code_toggle()\"><input type=\"submit\" value=\"Click here to toggle on/off the raw code.\"></form>"
      ],
      "text/plain": [
       "<IPython.core.display.HTML object>"
      ]
     },
     "execution_count": 625,
     "metadata": {},
     "output_type": "execute_result"
    }
   ],
   "source": [
    "from IPython.display import HTML\n",
    "\n",
    "HTML('''<script>\n",
    "code_show=true; \n",
    "function code_toggle() {\n",
    " if (code_show){\n",
    " $('div.input').hide();\n",
    " } else {\n",
    " $('div.input').show();\n",
    " }\n",
    " code_show = !code_show\n",
    "} \n",
    "$( document ).ready(code_toggle);\n",
    "</script>\n",
    "<form action=\"javascript:code_toggle()\"><input type=\"submit\" value=\"Click here to toggle on/off the raw code.\"></form>''')"
   ]
  },
  {
   "cell_type": "markdown",
   "metadata": {},
   "source": [
    "#### Reading all files"
   ]
  },
  {
   "cell_type": "code",
   "execution_count": 243,
   "metadata": {},
   "outputs": [],
   "source": [
    "#Importing necessary packages\n",
    "\n",
    "import pandas as pd\n",
    "import numpy as np\n",
    "import glob\n",
    "import seaborn as sns\n",
    "import matplotlib.pyplot as plt\n",
    "import datetime as dt"
   ]
  },
  {
   "cell_type": "code",
   "execution_count": 244,
   "metadata": {},
   "outputs": [
    {
     "name": "stdout",
     "output_type": "stream",
     "text": [
      "/Users/adityakamboj/Desktop/Dunn/Dunn1\n"
     ]
    }
   ],
   "source": [
    "cd /Users/adityakamboj/Desktop/Dunn/Dunn1"
   ]
  },
  {
   "cell_type": "code",
   "execution_count": 245,
   "metadata": {},
   "outputs": [],
   "source": [
    "# Union all the csv files\n",
    "\n",
    "extension = 'csv'\n",
    "all_filenames = [i for i in glob.glob('*.{}'.format(extension))]\n",
    "\n",
    "df=pd.concat([pd.read_csv(f) for f in all_filenames])"
   ]
  },
  {
   "cell_type": "code",
   "execution_count": 246,
   "metadata": {},
   "outputs": [
    {
     "data": {
      "text/html": [
       "<div>\n",
       "<style scoped>\n",
       "    .dataframe tbody tr th:only-of-type {\n",
       "        vertical-align: middle;\n",
       "    }\n",
       "\n",
       "    .dataframe tbody tr th {\n",
       "        vertical-align: top;\n",
       "    }\n",
       "\n",
       "    .dataframe thead th {\n",
       "        text-align: right;\n",
       "    }\n",
       "</style>\n",
       "<table border=\"1\" class=\"dataframe\">\n",
       "  <thead>\n",
       "    <tr style=\"text-align: right;\">\n",
       "      <th></th>\n",
       "      <th>SHOP_WEEK</th>\n",
       "      <th>SHOP_DATE</th>\n",
       "      <th>SHOP_WEEKDAY</th>\n",
       "      <th>SHOP_HOUR</th>\n",
       "      <th>QUANTITY</th>\n",
       "      <th>SPEND</th>\n",
       "      <th>PROD_CODE</th>\n",
       "      <th>PROD_CODE_10</th>\n",
       "      <th>PROD_CODE_20</th>\n",
       "      <th>PROD_CODE_30</th>\n",
       "      <th>...</th>\n",
       "      <th>CUST_PRICE_SENSITIVITY</th>\n",
       "      <th>CUST_LIFESTAGE</th>\n",
       "      <th>BASKET_ID</th>\n",
       "      <th>BASKET_SIZE</th>\n",
       "      <th>BASKET_PRICE_SENSITIVITY</th>\n",
       "      <th>BASKET_TYPE</th>\n",
       "      <th>BASKET_DOMINANT_MISSION</th>\n",
       "      <th>STORE_CODE</th>\n",
       "      <th>STORE_FORMAT</th>\n",
       "      <th>STORE_REGION</th>\n",
       "    </tr>\n",
       "  </thead>\n",
       "  <tbody>\n",
       "    <tr>\n",
       "      <th>0</th>\n",
       "      <td>200714</td>\n",
       "      <td>20070529</td>\n",
       "      <td>3</td>\n",
       "      <td>18</td>\n",
       "      <td>1</td>\n",
       "      <td>1.56</td>\n",
       "      <td>PRD0900173</td>\n",
       "      <td>CL00045</td>\n",
       "      <td>DEP00011</td>\n",
       "      <td>G00004</td>\n",
       "      <td>...</td>\n",
       "      <td>UM</td>\n",
       "      <td>OT</td>\n",
       "      <td>994106000428564</td>\n",
       "      <td>L</td>\n",
       "      <td>UM</td>\n",
       "      <td>Top Up</td>\n",
       "      <td>Mixed</td>\n",
       "      <td>STORE00001</td>\n",
       "      <td>LS</td>\n",
       "      <td>E02</td>\n",
       "    </tr>\n",
       "    <tr>\n",
       "      <th>1</th>\n",
       "      <td>200714</td>\n",
       "      <td>20070530</td>\n",
       "      <td>4</td>\n",
       "      <td>19</td>\n",
       "      <td>1</td>\n",
       "      <td>0.50</td>\n",
       "      <td>PRD0900336</td>\n",
       "      <td>CL00006</td>\n",
       "      <td>DEP00002</td>\n",
       "      <td>G00001</td>\n",
       "      <td>...</td>\n",
       "      <td>MM</td>\n",
       "      <td>OA</td>\n",
       "      <td>994106000362841</td>\n",
       "      <td>M</td>\n",
       "      <td>LA</td>\n",
       "      <td>Small Shop</td>\n",
       "      <td>Grocery</td>\n",
       "      <td>STORE00001</td>\n",
       "      <td>LS</td>\n",
       "      <td>E02</td>\n",
       "    </tr>\n",
       "    <tr>\n",
       "      <th>2</th>\n",
       "      <td>200714</td>\n",
       "      <td>20070529</td>\n",
       "      <td>3</td>\n",
       "      <td>18</td>\n",
       "      <td>3</td>\n",
       "      <td>1.23</td>\n",
       "      <td>PRD0900407</td>\n",
       "      <td>CL00028</td>\n",
       "      <td>DEP00008</td>\n",
       "      <td>G00004</td>\n",
       "      <td>...</td>\n",
       "      <td>UM</td>\n",
       "      <td>OT</td>\n",
       "      <td>994106000428564</td>\n",
       "      <td>L</td>\n",
       "      <td>UM</td>\n",
       "      <td>Top Up</td>\n",
       "      <td>Mixed</td>\n",
       "      <td>STORE00001</td>\n",
       "      <td>LS</td>\n",
       "      <td>E02</td>\n",
       "    </tr>\n",
       "    <tr>\n",
       "      <th>3</th>\n",
       "      <td>200714</td>\n",
       "      <td>20070529</td>\n",
       "      <td>3</td>\n",
       "      <td>21</td>\n",
       "      <td>4</td>\n",
       "      <td>3.00</td>\n",
       "      <td>PRD0900447</td>\n",
       "      <td>CL00140</td>\n",
       "      <td>DEP00049</td>\n",
       "      <td>G00014</td>\n",
       "      <td>...</td>\n",
       "      <td>LA</td>\n",
       "      <td>OT</td>\n",
       "      <td>994106000288924</td>\n",
       "      <td>L</td>\n",
       "      <td>MM</td>\n",
       "      <td>Full Shop</td>\n",
       "      <td>Mixed</td>\n",
       "      <td>STORE00001</td>\n",
       "      <td>LS</td>\n",
       "      <td>E02</td>\n",
       "    </tr>\n",
       "    <tr>\n",
       "      <th>4</th>\n",
       "      <td>200714</td>\n",
       "      <td>20070529</td>\n",
       "      <td>3</td>\n",
       "      <td>18</td>\n",
       "      <td>3</td>\n",
       "      <td>2.82</td>\n",
       "      <td>PRD0900471</td>\n",
       "      <td>CL00152</td>\n",
       "      <td>DEP00052</td>\n",
       "      <td>G00015</td>\n",
       "      <td>...</td>\n",
       "      <td>UM</td>\n",
       "      <td>OT</td>\n",
       "      <td>994106000428564</td>\n",
       "      <td>L</td>\n",
       "      <td>UM</td>\n",
       "      <td>Top Up</td>\n",
       "      <td>Mixed</td>\n",
       "      <td>STORE00001</td>\n",
       "      <td>LS</td>\n",
       "      <td>E02</td>\n",
       "    </tr>\n",
       "  </tbody>\n",
       "</table>\n",
       "<p>5 rows × 22 columns</p>\n",
       "</div>"
      ],
      "text/plain": [
       "   SHOP_WEEK  SHOP_DATE  SHOP_WEEKDAY  SHOP_HOUR  QUANTITY  SPEND   PROD_CODE  \\\n",
       "0     200714   20070529             3         18         1   1.56  PRD0900173   \n",
       "1     200714   20070530             4         19         1   0.50  PRD0900336   \n",
       "2     200714   20070529             3         18         3   1.23  PRD0900407   \n",
       "3     200714   20070529             3         21         4   3.00  PRD0900447   \n",
       "4     200714   20070529             3         18         3   2.82  PRD0900471   \n",
       "\n",
       "  PROD_CODE_10 PROD_CODE_20 PROD_CODE_30     ...      CUST_PRICE_SENSITIVITY  \\\n",
       "0      CL00045     DEP00011       G00004     ...                          UM   \n",
       "1      CL00006     DEP00002       G00001     ...                          MM   \n",
       "2      CL00028     DEP00008       G00004     ...                          UM   \n",
       "3      CL00140     DEP00049       G00014     ...                          LA   \n",
       "4      CL00152     DEP00052       G00015     ...                          UM   \n",
       "\n",
       "  CUST_LIFESTAGE        BASKET_ID BASKET_SIZE  BASKET_PRICE_SENSITIVITY  \\\n",
       "0             OT  994106000428564           L                        UM   \n",
       "1             OA  994106000362841           M                        LA   \n",
       "2             OT  994106000428564           L                        UM   \n",
       "3             OT  994106000288924           L                        MM   \n",
       "4             OT  994106000428564           L                        UM   \n",
       "\n",
       "  BASKET_TYPE BASKET_DOMINANT_MISSION  STORE_CODE STORE_FORMAT STORE_REGION  \n",
       "0      Top Up                   Mixed  STORE00001           LS          E02  \n",
       "1  Small Shop                 Grocery  STORE00001           LS          E02  \n",
       "2      Top Up                   Mixed  STORE00001           LS          E02  \n",
       "3   Full Shop                   Mixed  STORE00001           LS          E02  \n",
       "4      Top Up                   Mixed  STORE00001           LS          E02  \n",
       "\n",
       "[5 rows x 22 columns]"
      ]
     },
     "metadata": {},
     "output_type": "display_data"
    },
    {
     "data": {
      "text/plain": [
       "3158469"
      ]
     },
     "metadata": {},
     "output_type": "display_data"
    }
   ],
   "source": [
    "# Printing head of the dataframe\n",
    "\n",
    "display(df.head())\n",
    "display(len(df.index))"
   ]
  },
  {
   "cell_type": "markdown",
   "metadata": {},
   "source": [
    "#### Checking for missing Vales"
   ]
  },
  {
   "cell_type": "code",
   "execution_count": 247,
   "metadata": {},
   "outputs": [
    {
     "data": {
      "text/plain": [
       "<matplotlib.axes._subplots.AxesSubplot at 0x1a41a93358>"
      ]
     },
     "execution_count": 247,
     "metadata": {},
     "output_type": "execute_result"
    },
    {
     "data": {
      "image/png": "[encoded data removed]",
      "text/plain": [
       "<Figure size 1800x720 with 2 Axes>"
      ]
     },
     "metadata": {
      "needs_background": "light"
     },
     "output_type": "display_data"
    }
   ],
   "source": [
    "# Checking missing values\n",
    "# Cust_code and cust_price_sensitivity follow the same pattern, more missing values cust_lifestage\n",
    "import missingno as msno\n",
    "msno.matrix(df)"
   ]
  },
  {
   "cell_type": "code",
   "execution_count": 248,
   "metadata": {},
   "outputs": [],
   "source": [
    "# Removing null values where customer code is null\n",
    "\n",
    "df1 = df[pd.notnull(df['CUST_CODE'])]"
   ]
  },
  {
   "cell_type": "code",
   "execution_count": 623,
   "metadata": {},
   "outputs": [
    {
     "name": "stderr",
     "output_type": "stream",
     "text": [
      "/Users/adityakamboj/anaconda3/lib/python3.7/site-packages/ipykernel_launcher.py:3: SettingWithCopyWarning: \n",
      "A value is trying to be set on a copy of a slice from a DataFrame.\n",
      "Try using .loc[row_indexer,col_indexer] = value instead\n",
      "\n",
      "See the caveats in the documentation: http://pandas.pydata.org/pandas-docs/stable/indexing.html#indexing-view-versus-copy\n",
      "  This is separate from the ipykernel package so we can avoid doing imports until\n",
      "/Users/adityakamboj/anaconda3/lib/python3.7/site-packages/ipykernel_launcher.py:4: SettingWithCopyWarning: \n",
      "A value is trying to be set on a copy of a slice from a DataFrame.\n",
      "Try using .loc[row_indexer,col_indexer] = value instead\n",
      "\n",
      "See the caveats in the documentation: http://pandas.pydata.org/pandas-docs/stable/indexing.html#indexing-view-versus-copy\n",
      "  after removing the cwd from sys.path.\n"
     ]
    }
   ],
   "source": [
    "# Fixing date time format and calculating total spends\n",
    "\n",
    "df1['SHOP_DATE'] = df1['SHOP_DATE'].apply(lambda x: pd.to_datetime(str(x), format='%Y-%m-%d'))\n",
    "df1['Total_Spends'] = df1.SPEND*df1.QUANTITY"
   ]
  },
  {
   "cell_type": "code",
   "execution_count": 250,
   "metadata": {},
   "outputs": [],
   "source": [
    "#Simple/basic EDA\n",
    "\n",
    "filtered_data_cust = df1[['CUST_CODE','CUST_PRICE_SENSITIVITY','CUST_LIFESTAGE']].drop_duplicates()"
   ]
  },
  {
   "cell_type": "code",
   "execution_count": 251,
   "metadata": {},
   "outputs": [
    {
     "data": {
      "image/png": "[encoded data removed]",
      "text/plain": [
       "<Figure size 432x288 with 1 Axes>"
      ]
     },
     "metadata": {
      "needs_background": "light"
     },
     "output_type": "display_data"
    }
   ],
   "source": [
    "filtered_data_cust.CUST_PRICE_SENSITIVITY.value_counts().plot(kind='bar')\n",
    "plt.ylabel('Customers')\n",
    "plt.xlabel('Customer price sensitivity')\n",
    "plt.show()"
   ]
  },
  {
   "cell_type": "code",
   "execution_count": 252,
   "metadata": {},
   "outputs": [
    {
     "data": {
      "image/png": "[encoded data removed]",
      "text/plain": [
       "<Figure size 432x288 with 1 Axes>"
      ]
     },
     "metadata": {
      "needs_background": "light"
     },
     "output_type": "display_data"
    }
   ],
   "source": [
    "filtered_data_cust.CUST_LIFESTAGE.value_counts().plot(kind='bar')\n",
    "plt.ylabel('Customers')\n",
    "plt.xlabel('Customer Lifestage')\n",
    "plt.show()"
   ]
  },
  {
   "cell_type": "code",
   "execution_count": 253,
   "metadata": {},
   "outputs": [],
   "source": [
    "filtered_data_basket = df1[['BASKET_ID','BASKET_SIZE',\n",
    "                            'BASKET_PRICE_SENSITIVITY','BASKET_TYPE',\n",
    "                            'BASKET_DOMINANT_MISSION']].drop_duplicates()"
   ]
  },
  {
   "cell_type": "code",
   "execution_count": 254,
   "metadata": {},
   "outputs": [
    {
     "data": {
      "image/png": "[encoded data removed]",
      "text/plain": [
       "<Figure size 432x288 with 1 Axes>"
      ]
     },
     "metadata": {
      "needs_background": "light"
     },
     "output_type": "display_data"
    }
   ],
   "source": [
    "filtered_data_basket.BASKET_PRICE_SENSITIVITY.value_counts().plot(kind='bar')\n",
    "plt.ylabel('BASKETS')\n",
    "plt.xlabel('BASKET_PRICE_SENSITIVITY')\n",
    "plt.show()"
   ]
  },
  {
   "cell_type": "code",
   "execution_count": 255,
   "metadata": {},
   "outputs": [
    {
     "data": {
      "image/png": "[encoded data removed]",
      "text/plain": [
       "<Figure size 432x288 with 1 Axes>"
      ]
     },
     "metadata": {
      "needs_background": "light"
     },
     "output_type": "display_data"
    }
   ],
   "source": [
    "filtered_data_basket.BASKET_DOMINANT_MISSION.value_counts().plot(kind='bar')\n",
    "plt.ylabel('BASKETS')\n",
    "plt.xlabel('BASKET_DOMINANT_MISSION')\n",
    "plt.show()"
   ]
  },
  {
   "cell_type": "code",
   "execution_count": 256,
   "metadata": {},
   "outputs": [
    {
     "data": {
      "text/html": [
       "<div>\n",
       "<style scoped>\n",
       "    .dataframe tbody tr th:only-of-type {\n",
       "        vertical-align: middle;\n",
       "    }\n",
       "\n",
       "    .dataframe tbody tr th {\n",
       "        vertical-align: top;\n",
       "    }\n",
       "\n",
       "    .dataframe thead th {\n",
       "        text-align: right;\n",
       "    }\n",
       "</style>\n",
       "<table border=\"1\" class=\"dataframe\">\n",
       "  <thead>\n",
       "    <tr style=\"text-align: right;\">\n",
       "      <th></th>\n",
       "      <th>SHOP_WEEKDAY</th>\n",
       "      <th>SHOP_HOUR</th>\n",
       "      <th>QUANTITY</th>\n",
       "      <th>SPEND</th>\n",
       "      <th>Total_Spends</th>\n",
       "    </tr>\n",
       "  </thead>\n",
       "  <tbody>\n",
       "    <tr>\n",
       "      <th>count</th>\n",
       "      <td>2541019.00</td>\n",
       "      <td>2541019.00</td>\n",
       "      <td>2541019.00</td>\n",
       "      <td>2541019.00</td>\n",
       "      <td>2541019.00</td>\n",
       "    </tr>\n",
       "    <tr>\n",
       "      <th>mean</th>\n",
       "      <td>3.99</td>\n",
       "      <td>14.83</td>\n",
       "      <td>1.49</td>\n",
       "      <td>1.90</td>\n",
       "      <td>4.02</td>\n",
       "    </tr>\n",
       "    <tr>\n",
       "      <th>std</th>\n",
       "      <td>2.00</td>\n",
       "      <td>3.66</td>\n",
       "      <td>1.55</td>\n",
       "      <td>2.86</td>\n",
       "      <td>57.11</td>\n",
       "    </tr>\n",
       "    <tr>\n",
       "      <th>min</th>\n",
       "      <td>1.00</td>\n",
       "      <td>8.00</td>\n",
       "      <td>1.00</td>\n",
       "      <td>0.00</td>\n",
       "      <td>0.00</td>\n",
       "    </tr>\n",
       "    <tr>\n",
       "      <th>25%</th>\n",
       "      <td>2.00</td>\n",
       "      <td>12.00</td>\n",
       "      <td>1.00</td>\n",
       "      <td>0.77</td>\n",
       "      <td>0.80</td>\n",
       "    </tr>\n",
       "    <tr>\n",
       "      <th>50%</th>\n",
       "      <td>4.00</td>\n",
       "      <td>15.00</td>\n",
       "      <td>1.00</td>\n",
       "      <td>1.23</td>\n",
       "      <td>1.28</td>\n",
       "    </tr>\n",
       "    <tr>\n",
       "      <th>75%</th>\n",
       "      <td>6.00</td>\n",
       "      <td>18.00</td>\n",
       "      <td>1.00</td>\n",
       "      <td>2.09</td>\n",
       "      <td>2.42</td>\n",
       "    </tr>\n",
       "    <tr>\n",
       "      <th>max</th>\n",
       "      <td>7.00</td>\n",
       "      <td>22.00</td>\n",
       "      <td>289.00</td>\n",
       "      <td>1283.94</td>\n",
       "      <td>80888.22</td>\n",
       "    </tr>\n",
       "  </tbody>\n",
       "</table>\n",
       "</div>"
      ],
      "text/plain": [
       "       SHOP_WEEKDAY   SHOP_HOUR    QUANTITY       SPEND  Total_Spends\n",
       "count    2541019.00  2541019.00  2541019.00  2541019.00    2541019.00\n",
       "mean           3.99       14.83        1.49        1.90          4.02\n",
       "std            2.00        3.66        1.55        2.86         57.11\n",
       "min            1.00        8.00        1.00        0.00          0.00\n",
       "25%            2.00       12.00        1.00        0.77          0.80\n",
       "50%            4.00       15.00        1.00        1.23          1.28\n",
       "75%            6.00       18.00        1.00        2.09          2.42\n",
       "max            7.00       22.00      289.00     1283.94      80888.22"
      ]
     },
     "execution_count": 256,
     "metadata": {},
     "output_type": "execute_result"
    }
   ],
   "source": [
    "df1.describe().round(2).drop(['BASKET_ID', 'SHOP_WEEK'], axis = 'columns')"
   ]
  },
  {
   "cell_type": "code",
   "execution_count": 257,
   "metadata": {},
   "outputs": [],
   "source": [
    "df2 = df1[['CUST_CODE', 'SHOP_DATE', 'QUANTITY', 'SPEND', 'BASKET_ID', 'Total_Spends']]"
   ]
  },
  {
   "cell_type": "code",
   "execution_count": 258,
   "metadata": {},
   "outputs": [
    {
     "data": {
      "text/plain": [
       "Timestamp('2008-07-06 00:00:00')"
      ]
     },
     "metadata": {},
     "output_type": "display_data"
    },
    {
     "data": {
      "text/plain": [
       "Timestamp('2006-04-10 00:00:00')"
      ]
     },
     "metadata": {},
     "output_type": "display_data"
    }
   ],
   "source": [
    "display(df2.SHOP_DATE.max()); display(df2.SHOP_DATE.min())"
   ]
  },
  {
   "cell_type": "code",
   "execution_count": 259,
   "metadata": {},
   "outputs": [
    {
     "data": {
      "text/html": [
       "<div>\n",
       "<style scoped>\n",
       "    .dataframe tbody tr th:only-of-type {\n",
       "        vertical-align: middle;\n",
       "    }\n",
       "\n",
       "    .dataframe tbody tr th {\n",
       "        vertical-align: top;\n",
       "    }\n",
       "\n",
       "    .dataframe thead th {\n",
       "        text-align: right;\n",
       "    }\n",
       "</style>\n",
       "<table border=\"1\" class=\"dataframe\">\n",
       "  <thead>\n",
       "    <tr style=\"text-align: right;\">\n",
       "      <th></th>\n",
       "      <th>CUST_CODE</th>\n",
       "      <th>SHOP_DATE</th>\n",
       "      <th>QUANTITY</th>\n",
       "      <th>SPEND</th>\n",
       "      <th>BASKET_ID</th>\n",
       "      <th>Total_Spends</th>\n",
       "    </tr>\n",
       "  </thead>\n",
       "  <tbody>\n",
       "    <tr>\n",
       "      <th>0</th>\n",
       "      <td>CUST0000410727</td>\n",
       "      <td>2007-05-29</td>\n",
       "      <td>1</td>\n",
       "      <td>1.56</td>\n",
       "      <td>994106000428564</td>\n",
       "      <td>1.56</td>\n",
       "    </tr>\n",
       "    <tr>\n",
       "      <th>1</th>\n",
       "      <td>CUST0000307323</td>\n",
       "      <td>2007-05-30</td>\n",
       "      <td>1</td>\n",
       "      <td>0.50</td>\n",
       "      <td>994106000362841</td>\n",
       "      <td>0.50</td>\n",
       "    </tr>\n",
       "    <tr>\n",
       "      <th>2</th>\n",
       "      <td>CUST0000410727</td>\n",
       "      <td>2007-05-29</td>\n",
       "      <td>3</td>\n",
       "      <td>1.23</td>\n",
       "      <td>994106000428564</td>\n",
       "      <td>3.69</td>\n",
       "    </tr>\n",
       "    <tr>\n",
       "      <th>3</th>\n",
       "      <td>CUST0000190750</td>\n",
       "      <td>2007-05-29</td>\n",
       "      <td>4</td>\n",
       "      <td>3.00</td>\n",
       "      <td>994106000288924</td>\n",
       "      <td>12.00</td>\n",
       "    </tr>\n",
       "    <tr>\n",
       "      <th>4</th>\n",
       "      <td>CUST0000410727</td>\n",
       "      <td>2007-05-29</td>\n",
       "      <td>3</td>\n",
       "      <td>2.82</td>\n",
       "      <td>994106000428564</td>\n",
       "      <td>8.46</td>\n",
       "    </tr>\n",
       "  </tbody>\n",
       "</table>\n",
       "</div>"
      ],
      "text/plain": [
       "        CUST_CODE  SHOP_DATE  QUANTITY  SPEND        BASKET_ID  Total_Spends\n",
       "0  CUST0000410727 2007-05-29         1   1.56  994106000428564          1.56\n",
       "1  CUST0000307323 2007-05-30         1   0.50  994106000362841          0.50\n",
       "2  CUST0000410727 2007-05-29         3   1.23  994106000428564          3.69\n",
       "3  CUST0000190750 2007-05-29         4   3.00  994106000288924         12.00\n",
       "4  CUST0000410727 2007-05-29         3   2.82  994106000428564          8.46"
      ]
     },
     "execution_count": 259,
     "metadata": {},
     "output_type": "execute_result"
    }
   ],
   "source": [
    "current = dt.datetime(2008,7,7)\n",
    "df2.head()"
   ]
  },
  {
   "cell_type": "markdown",
   "metadata": {},
   "source": [
    "#### **RFM Calculations**"
   ]
  },
  {
   "cell_type": "code",
   "execution_count": 333,
   "metadata": {},
   "outputs": [],
   "source": [
    "# Calculating RFM\n",
    "\n",
    "rfm_df = df2.groupby('CUST_CODE').agg({'SHOP_DATE': lambda date: (current - date.max()).days,\n",
    "                                        'BASKET_ID': 'nunique',\n",
    "                                        'Total_Spends': 'sum'})"
   ]
  },
  {
   "cell_type": "code",
   "execution_count": 334,
   "metadata": {},
   "outputs": [
    {
     "data": {
      "text/html": [
       "<div>\n",
       "<style scoped>\n",
       "    .dataframe tbody tr th:only-of-type {\n",
       "        vertical-align: middle;\n",
       "    }\n",
       "\n",
       "    .dataframe tbody tr th {\n",
       "        vertical-align: top;\n",
       "    }\n",
       "\n",
       "    .dataframe thead th {\n",
       "        text-align: right;\n",
       "    }\n",
       "</style>\n",
       "<table border=\"1\" class=\"dataframe\">\n",
       "  <thead>\n",
       "    <tr style=\"text-align: right;\">\n",
       "      <th></th>\n",
       "      <th>SHOP_DATE</th>\n",
       "      <th>BASKET_ID</th>\n",
       "      <th>Total_Spends</th>\n",
       "    </tr>\n",
       "    <tr>\n",
       "      <th>CUST_CODE</th>\n",
       "      <th></th>\n",
       "      <th></th>\n",
       "      <th></th>\n",
       "    </tr>\n",
       "  </thead>\n",
       "  <tbody>\n",
       "    <tr>\n",
       "      <th>CUST0000000013</th>\n",
       "      <td>139</td>\n",
       "      <td>12</td>\n",
       "      <td>261.12</td>\n",
       "    </tr>\n",
       "    <tr>\n",
       "      <th>CUST0000000055</th>\n",
       "      <td>19</td>\n",
       "      <td>15</td>\n",
       "      <td>2671.55</td>\n",
       "    </tr>\n",
       "    <tr>\n",
       "      <th>CUST0000000679</th>\n",
       "      <td>73</td>\n",
       "      <td>14</td>\n",
       "      <td>141.73</td>\n",
       "    </tr>\n",
       "    <tr>\n",
       "      <th>CUST0000001052</th>\n",
       "      <td>23</td>\n",
       "      <td>31</td>\n",
       "      <td>316.90</td>\n",
       "    </tr>\n",
       "    <tr>\n",
       "      <th>CUST0000001058</th>\n",
       "      <td>45</td>\n",
       "      <td>2</td>\n",
       "      <td>137.50</td>\n",
       "    </tr>\n",
       "  </tbody>\n",
       "</table>\n",
       "</div>"
      ],
      "text/plain": [
       "                SHOP_DATE  BASKET_ID  Total_Spends\n",
       "CUST_CODE                                         \n",
       "CUST0000000013        139         12        261.12\n",
       "CUST0000000055         19         15       2671.55\n",
       "CUST0000000679         73         14        141.73\n",
       "CUST0000001052         23         31        316.90\n",
       "CUST0000001058         45          2        137.50"
      ]
     },
     "execution_count": 334,
     "metadata": {},
     "output_type": "execute_result"
    }
   ],
   "source": [
    "rfm_df.head()"
   ]
  },
  {
   "cell_type": "code",
   "execution_count": 367,
   "metadata": {},
   "outputs": [],
   "source": [
    "# Renaming column names for convenience\n",
    "\n",
    "rfm_df.rename(columns={'SHOP_DATE':'recency',\n",
    "                         'BASKET_ID': 'frequency',\n",
    "                         'Total_Spends': 'monetary value'}, inplace=True)"
   ]
  },
  {
   "cell_type": "code",
   "execution_count": 368,
   "metadata": {},
   "outputs": [
    {
     "data": {
      "text/html": [
       "<div>\n",
       "<style scoped>\n",
       "    .dataframe tbody tr th:only-of-type {\n",
       "        vertical-align: middle;\n",
       "    }\n",
       "\n",
       "    .dataframe tbody tr th {\n",
       "        vertical-align: top;\n",
       "    }\n",
       "\n",
       "    .dataframe thead th {\n",
       "        text-align: right;\n",
       "    }\n",
       "</style>\n",
       "<table border=\"1\" class=\"dataframe\">\n",
       "  <thead>\n",
       "    <tr style=\"text-align: right;\">\n",
       "      <th></th>\n",
       "      <th>recency</th>\n",
       "      <th>frequency</th>\n",
       "      <th>monetary value</th>\n",
       "      <th>r_q</th>\n",
       "      <th>f_q</th>\n",
       "      <th>m_q</th>\n",
       "      <th>rfm_segment</th>\n",
       "      <th>rfm_score</th>\n",
       "    </tr>\n",
       "    <tr>\n",
       "      <th>CUST_CODE</th>\n",
       "      <th></th>\n",
       "      <th></th>\n",
       "      <th></th>\n",
       "      <th></th>\n",
       "      <th></th>\n",
       "      <th></th>\n",
       "      <th></th>\n",
       "      <th></th>\n",
       "    </tr>\n",
       "  </thead>\n",
       "  <tbody>\n",
       "    <tr>\n",
       "      <th>CUST0000000013</th>\n",
       "      <td>139</td>\n",
       "      <td>12</td>\n",
       "      <td>261.12</td>\n",
       "      <td>1</td>\n",
       "      <td>2</td>\n",
       "      <td>2</td>\n",
       "      <td>122</td>\n",
       "      <td>5.0</td>\n",
       "    </tr>\n",
       "    <tr>\n",
       "      <th>CUST0000000055</th>\n",
       "      <td>19</td>\n",
       "      <td>15</td>\n",
       "      <td>2671.55</td>\n",
       "      <td>2</td>\n",
       "      <td>2</td>\n",
       "      <td>4</td>\n",
       "      <td>224</td>\n",
       "      <td>8.0</td>\n",
       "    </tr>\n",
       "    <tr>\n",
       "      <th>CUST0000000679</th>\n",
       "      <td>73</td>\n",
       "      <td>14</td>\n",
       "      <td>141.73</td>\n",
       "      <td>2</td>\n",
       "      <td>2</td>\n",
       "      <td>2</td>\n",
       "      <td>222</td>\n",
       "      <td>6.0</td>\n",
       "    </tr>\n",
       "    <tr>\n",
       "      <th>CUST0000001052</th>\n",
       "      <td>23</td>\n",
       "      <td>31</td>\n",
       "      <td>316.90</td>\n",
       "      <td>2</td>\n",
       "      <td>2</td>\n",
       "      <td>2</td>\n",
       "      <td>222</td>\n",
       "      <td>6.0</td>\n",
       "    </tr>\n",
       "    <tr>\n",
       "      <th>CUST0000001058</th>\n",
       "      <td>45</td>\n",
       "      <td>2</td>\n",
       "      <td>137.50</td>\n",
       "      <td>2</td>\n",
       "      <td>1</td>\n",
       "      <td>2</td>\n",
       "      <td>212</td>\n",
       "      <td>5.0</td>\n",
       "    </tr>\n",
       "  </tbody>\n",
       "</table>\n",
       "</div>"
      ],
      "text/plain": [
       "                recency  frequency  monetary value r_q f_q m_q rfm_segment  \\\n",
       "CUST_CODE                                                                    \n",
       "CUST0000000013      139         12          261.12   1   2   2         122   \n",
       "CUST0000000055       19         15         2671.55   2   2   4         224   \n",
       "CUST0000000679       73         14          141.73   2   2   2         222   \n",
       "CUST0000001052       23         31          316.90   2   2   2         222   \n",
       "CUST0000001058       45          2          137.50   2   1   2         212   \n",
       "\n",
       "                rfm_score  \n",
       "CUST_CODE                  \n",
       "CUST0000000013        5.0  \n",
       "CUST0000000055        8.0  \n",
       "CUST0000000679        6.0  \n",
       "CUST0000001052        6.0  \n",
       "CUST0000001058        5.0  "
      ]
     },
     "metadata": {},
     "output_type": "display_data"
    },
    {
     "data": {
      "text/plain": [
       "(5000, 8)"
      ]
     },
     "metadata": {},
     "output_type": "display_data"
    }
   ],
   "source": [
    "display(rfm_df.head())\n",
    "display(rfm_df.shape)"
   ]
  },
  {
   "cell_type": "code",
   "execution_count": 369,
   "metadata": {},
   "outputs": [],
   "source": [
    "# Spliting data into quantiles\n",
    "\n",
    "rec_label = range(4, 0,-1)\n",
    "fre_label = range(1,5)\n",
    "mon_label = range(1,5)"
   ]
  },
  {
   "cell_type": "code",
   "execution_count": 370,
   "metadata": {},
   "outputs": [],
   "source": [
    "rfm_df['r_q'] = pd.qcut(rfm_df['recency'], 4, labels=rec_label)\n",
    "rfm_df['f_q'] = pd.qcut(rfm_df['frequency'], 4, labels=fre_label)\n",
    "rfm_df['m_q'] = pd.qcut(rfm_df['monetary value'], 4, labels=mon_label)"
   ]
  },
  {
   "cell_type": "code",
   "execution_count": 371,
   "metadata": {},
   "outputs": [
    {
     "data": {
      "text/html": [
       "<div>\n",
       "<style scoped>\n",
       "    .dataframe tbody tr th:only-of-type {\n",
       "        vertical-align: middle;\n",
       "    }\n",
       "\n",
       "    .dataframe tbody tr th {\n",
       "        vertical-align: top;\n",
       "    }\n",
       "\n",
       "    .dataframe thead th {\n",
       "        text-align: right;\n",
       "    }\n",
       "</style>\n",
       "<table border=\"1\" class=\"dataframe\">\n",
       "  <thead>\n",
       "    <tr style=\"text-align: right;\">\n",
       "      <th></th>\n",
       "      <th>recency</th>\n",
       "      <th>frequency</th>\n",
       "      <th>monetary value</th>\n",
       "      <th>r_q</th>\n",
       "      <th>f_q</th>\n",
       "      <th>m_q</th>\n",
       "      <th>rfm_segment</th>\n",
       "      <th>rfm_score</th>\n",
       "    </tr>\n",
       "    <tr>\n",
       "      <th>CUST_CODE</th>\n",
       "      <th></th>\n",
       "      <th></th>\n",
       "      <th></th>\n",
       "      <th></th>\n",
       "      <th></th>\n",
       "      <th></th>\n",
       "      <th></th>\n",
       "      <th></th>\n",
       "    </tr>\n",
       "  </thead>\n",
       "  <tbody>\n",
       "    <tr>\n",
       "      <th>CUST0000000013</th>\n",
       "      <td>139</td>\n",
       "      <td>12</td>\n",
       "      <td>261.12</td>\n",
       "      <td>1</td>\n",
       "      <td>2</td>\n",
       "      <td>2</td>\n",
       "      <td>122</td>\n",
       "      <td>5.0</td>\n",
       "    </tr>\n",
       "    <tr>\n",
       "      <th>CUST0000000055</th>\n",
       "      <td>19</td>\n",
       "      <td>15</td>\n",
       "      <td>2671.55</td>\n",
       "      <td>2</td>\n",
       "      <td>2</td>\n",
       "      <td>4</td>\n",
       "      <td>224</td>\n",
       "      <td>8.0</td>\n",
       "    </tr>\n",
       "    <tr>\n",
       "      <th>CUST0000000679</th>\n",
       "      <td>73</td>\n",
       "      <td>14</td>\n",
       "      <td>141.73</td>\n",
       "      <td>2</td>\n",
       "      <td>2</td>\n",
       "      <td>2</td>\n",
       "      <td>222</td>\n",
       "      <td>6.0</td>\n",
       "    </tr>\n",
       "    <tr>\n",
       "      <th>CUST0000001052</th>\n",
       "      <td>23</td>\n",
       "      <td>31</td>\n",
       "      <td>316.90</td>\n",
       "      <td>2</td>\n",
       "      <td>2</td>\n",
       "      <td>2</td>\n",
       "      <td>222</td>\n",
       "      <td>6.0</td>\n",
       "    </tr>\n",
       "    <tr>\n",
       "      <th>CUST0000001058</th>\n",
       "      <td>45</td>\n",
       "      <td>2</td>\n",
       "      <td>137.50</td>\n",
       "      <td>2</td>\n",
       "      <td>1</td>\n",
       "      <td>2</td>\n",
       "      <td>212</td>\n",
       "      <td>5.0</td>\n",
       "    </tr>\n",
       "  </tbody>\n",
       "</table>\n",
       "</div>"
      ],
      "text/plain": [
       "                recency  frequency  monetary value r_q f_q m_q rfm_segment  \\\n",
       "CUST_CODE                                                                    \n",
       "CUST0000000013      139         12          261.12   1   2   2         122   \n",
       "CUST0000000055       19         15         2671.55   2   2   4         224   \n",
       "CUST0000000679       73         14          141.73   2   2   2         222   \n",
       "CUST0000001052       23         31          316.90   2   2   2         222   \n",
       "CUST0000001058       45          2          137.50   2   1   2         212   \n",
       "\n",
       "                rfm_score  \n",
       "CUST_CODE                  \n",
       "CUST0000000013        5.0  \n",
       "CUST0000000055        8.0  \n",
       "CUST0000000679        6.0  \n",
       "CUST0000001052        6.0  \n",
       "CUST0000001058        5.0  "
      ]
     },
     "execution_count": 371,
     "metadata": {},
     "output_type": "execute_result"
    }
   ],
   "source": [
    "rfm_df.head()"
   ]
  },
  {
   "cell_type": "code",
   "execution_count": 340,
   "metadata": {},
   "outputs": [],
   "source": [
    "# Calculating rfm segemnts and rfm score\n",
    "\n",
    "rfm_df['rfm_segment'] = rfm_df['r_q'].astype('str') + rfm_df['f_q'].astype('str') + rfm_df['m_q'].astype('str')\n",
    "rfm_df['rfm_score'] = rfm_df['r_q'].astype('float') + rfm_df['f_q'].astype('float') + rfm_df['m_q'].astype('float')"
   ]
  },
  {
   "cell_type": "code",
   "execution_count": 341,
   "metadata": {},
   "outputs": [
    {
     "data": {
      "text/html": [
       "<div>\n",
       "<style scoped>\n",
       "    .dataframe tbody tr th:only-of-type {\n",
       "        vertical-align: middle;\n",
       "    }\n",
       "\n",
       "    .dataframe tbody tr th {\n",
       "        vertical-align: top;\n",
       "    }\n",
       "\n",
       "    .dataframe thead th {\n",
       "        text-align: right;\n",
       "    }\n",
       "</style>\n",
       "<table border=\"1\" class=\"dataframe\">\n",
       "  <thead>\n",
       "    <tr style=\"text-align: right;\">\n",
       "      <th></th>\n",
       "      <th>recency</th>\n",
       "      <th>frequency</th>\n",
       "      <th>monetary value</th>\n",
       "      <th>r_q</th>\n",
       "      <th>f_q</th>\n",
       "      <th>m_q</th>\n",
       "      <th>rfm_segment</th>\n",
       "      <th>rfm_score</th>\n",
       "    </tr>\n",
       "    <tr>\n",
       "      <th>CUST_CODE</th>\n",
       "      <th></th>\n",
       "      <th></th>\n",
       "      <th></th>\n",
       "      <th></th>\n",
       "      <th></th>\n",
       "      <th></th>\n",
       "      <th></th>\n",
       "      <th></th>\n",
       "    </tr>\n",
       "  </thead>\n",
       "  <tbody>\n",
       "    <tr>\n",
       "      <th>CUST0000000013</th>\n",
       "      <td>139</td>\n",
       "      <td>12</td>\n",
       "      <td>261.12</td>\n",
       "      <td>1</td>\n",
       "      <td>2</td>\n",
       "      <td>2</td>\n",
       "      <td>122</td>\n",
       "      <td>5.0</td>\n",
       "    </tr>\n",
       "    <tr>\n",
       "      <th>CUST0000000055</th>\n",
       "      <td>19</td>\n",
       "      <td>15</td>\n",
       "      <td>2671.55</td>\n",
       "      <td>2</td>\n",
       "      <td>2</td>\n",
       "      <td>4</td>\n",
       "      <td>224</td>\n",
       "      <td>8.0</td>\n",
       "    </tr>\n",
       "    <tr>\n",
       "      <th>CUST0000000679</th>\n",
       "      <td>73</td>\n",
       "      <td>14</td>\n",
       "      <td>141.73</td>\n",
       "      <td>2</td>\n",
       "      <td>2</td>\n",
       "      <td>2</td>\n",
       "      <td>222</td>\n",
       "      <td>6.0</td>\n",
       "    </tr>\n",
       "    <tr>\n",
       "      <th>CUST0000001052</th>\n",
       "      <td>23</td>\n",
       "      <td>31</td>\n",
       "      <td>316.90</td>\n",
       "      <td>2</td>\n",
       "      <td>2</td>\n",
       "      <td>2</td>\n",
       "      <td>222</td>\n",
       "      <td>6.0</td>\n",
       "    </tr>\n",
       "    <tr>\n",
       "      <th>CUST0000001058</th>\n",
       "      <td>45</td>\n",
       "      <td>2</td>\n",
       "      <td>137.50</td>\n",
       "      <td>2</td>\n",
       "      <td>1</td>\n",
       "      <td>2</td>\n",
       "      <td>212</td>\n",
       "      <td>5.0</td>\n",
       "    </tr>\n",
       "  </tbody>\n",
       "</table>\n",
       "</div>"
      ],
      "text/plain": [
       "                recency  frequency  monetary value r_q f_q m_q rfm_segment  \\\n",
       "CUST_CODE                                                                    \n",
       "CUST0000000013      139         12          261.12   1   2   2         122   \n",
       "CUST0000000055       19         15         2671.55   2   2   4         224   \n",
       "CUST0000000679       73         14          141.73   2   2   2         222   \n",
       "CUST0000001052       23         31          316.90   2   2   2         222   \n",
       "CUST0000001058       45          2          137.50   2   1   2         212   \n",
       "\n",
       "                rfm_score  \n",
       "CUST_CODE                  \n",
       "CUST0000000013        5.0  \n",
       "CUST0000000055        8.0  \n",
       "CUST0000000679        6.0  \n",
       "CUST0000001052        6.0  \n",
       "CUST0000001058        5.0  "
      ]
     },
     "metadata": {},
     "output_type": "display_data"
    },
    {
     "data": {
      "text/plain": [
       "(5000, 8)"
      ]
     },
     "metadata": {},
     "output_type": "display_data"
    }
   ],
   "source": [
    "display(rfm_df.head())\n",
    "display(rfm_df.shape)"
   ]
  },
  {
   "cell_type": "code",
   "execution_count": 342,
   "metadata": {},
   "outputs": [
    {
     "data": {
      "text/plain": [
       "rfm_segment\n",
       "111    891\n",
       "444    552\n",
       "222    409\n",
       "344    288\n",
       "333    264\n",
       "443    212\n",
       "433    185\n",
       "233    174\n",
       "322    164\n",
       "112    151\n",
       "dtype: int64"
      ]
     },
     "execution_count": 342,
     "metadata": {},
     "output_type": "execute_result"
    }
   ],
   "source": [
    "# How does RFM segments look like\n",
    "\n",
    "rfm_df.groupby('rfm_segment').size().sort_values(ascending = False)[:10]"
   ]
  },
  {
   "cell_type": "code",
   "execution_count": 343,
   "metadata": {},
   "outputs": [
    {
     "data": {
      "text/plain": [
       "3.0     891\n",
       "11.0    633\n",
       "12.0    552\n",
       "10.0    492\n",
       "6.0     492\n",
       "9.0     474\n",
       "8.0     419\n",
       "7.0     413\n",
       "4.0     321\n",
       "5.0     313\n",
       "Name: rfm_score, dtype: int64"
      ]
     },
     "execution_count": 343,
     "metadata": {},
     "output_type": "execute_result"
    }
   ],
   "source": [
    "rfm_df['rfm_score'].value_counts()"
   ]
  },
  {
   "cell_type": "code",
   "execution_count": 344,
   "metadata": {},
   "outputs": [],
   "source": [
    "#Time Cohort analysis\n",
    "\n",
    "def get_month(x):\n",
    "    return dt.datetime(x.year, x.month, 1)"
   ]
  },
  {
   "cell_type": "code",
   "execution_count": 345,
   "metadata": {},
   "outputs": [],
   "source": [
    "df4 = df2.copy()\n",
    "df4['shop_month'] = df4['SHOP_DATE'].apply(get_month)"
   ]
  },
  {
   "cell_type": "code",
   "execution_count": 346,
   "metadata": {},
   "outputs": [],
   "source": [
    "grouping = df4.groupby('CUST_CODE')['shop_month']\n",
    "df4['CohortMonth'] = grouping.transform('min')"
   ]
  },
  {
   "cell_type": "code",
   "execution_count": 347,
   "metadata": {},
   "outputs": [
    {
     "data": {
      "text/html": [
       "<div>\n",
       "<style scoped>\n",
       "    .dataframe tbody tr th:only-of-type {\n",
       "        vertical-align: middle;\n",
       "    }\n",
       "\n",
       "    .dataframe tbody tr th {\n",
       "        vertical-align: top;\n",
       "    }\n",
       "\n",
       "    .dataframe thead th {\n",
       "        text-align: right;\n",
       "    }\n",
       "</style>\n",
       "<table border=\"1\" class=\"dataframe\">\n",
       "  <thead>\n",
       "    <tr style=\"text-align: right;\">\n",
       "      <th></th>\n",
       "      <th>CUST_CODE</th>\n",
       "      <th>SHOP_DATE</th>\n",
       "      <th>QUANTITY</th>\n",
       "      <th>SPEND</th>\n",
       "      <th>BASKET_ID</th>\n",
       "      <th>Total_Spends</th>\n",
       "      <th>shop_month</th>\n",
       "      <th>CohortMonth</th>\n",
       "    </tr>\n",
       "  </thead>\n",
       "  <tbody>\n",
       "    <tr>\n",
       "      <th>0</th>\n",
       "      <td>CUST0000410727</td>\n",
       "      <td>2007-05-29</td>\n",
       "      <td>1</td>\n",
       "      <td>1.56</td>\n",
       "      <td>994106000428564</td>\n",
       "      <td>1.56</td>\n",
       "      <td>2007-05-01</td>\n",
       "      <td>2006-04-01</td>\n",
       "    </tr>\n",
       "    <tr>\n",
       "      <th>1</th>\n",
       "      <td>CUST0000307323</td>\n",
       "      <td>2007-05-30</td>\n",
       "      <td>1</td>\n",
       "      <td>0.50</td>\n",
       "      <td>994106000362841</td>\n",
       "      <td>0.50</td>\n",
       "      <td>2007-05-01</td>\n",
       "      <td>2006-04-01</td>\n",
       "    </tr>\n",
       "    <tr>\n",
       "      <th>2</th>\n",
       "      <td>CUST0000410727</td>\n",
       "      <td>2007-05-29</td>\n",
       "      <td>3</td>\n",
       "      <td>1.23</td>\n",
       "      <td>994106000428564</td>\n",
       "      <td>3.69</td>\n",
       "      <td>2007-05-01</td>\n",
       "      <td>2006-04-01</td>\n",
       "    </tr>\n",
       "    <tr>\n",
       "      <th>3</th>\n",
       "      <td>CUST0000190750</td>\n",
       "      <td>2007-05-29</td>\n",
       "      <td>4</td>\n",
       "      <td>3.00</td>\n",
       "      <td>994106000288924</td>\n",
       "      <td>12.00</td>\n",
       "      <td>2007-05-01</td>\n",
       "      <td>2006-08-01</td>\n",
       "    </tr>\n",
       "    <tr>\n",
       "      <th>4</th>\n",
       "      <td>CUST0000410727</td>\n",
       "      <td>2007-05-29</td>\n",
       "      <td>3</td>\n",
       "      <td>2.82</td>\n",
       "      <td>994106000428564</td>\n",
       "      <td>8.46</td>\n",
       "      <td>2007-05-01</td>\n",
       "      <td>2006-04-01</td>\n",
       "    </tr>\n",
       "  </tbody>\n",
       "</table>\n",
       "</div>"
      ],
      "text/plain": [
       "        CUST_CODE  SHOP_DATE  QUANTITY  SPEND        BASKET_ID  Total_Spends  \\\n",
       "0  CUST0000410727 2007-05-29         1   1.56  994106000428564          1.56   \n",
       "1  CUST0000307323 2007-05-30         1   0.50  994106000362841          0.50   \n",
       "2  CUST0000410727 2007-05-29         3   1.23  994106000428564          3.69   \n",
       "3  CUST0000190750 2007-05-29         4   3.00  994106000288924         12.00   \n",
       "4  CUST0000410727 2007-05-29         3   2.82  994106000428564          8.46   \n",
       "\n",
       "  shop_month CohortMonth  \n",
       "0 2007-05-01  2006-04-01  \n",
       "1 2007-05-01  2006-04-01  \n",
       "2 2007-05-01  2006-04-01  \n",
       "3 2007-05-01  2006-08-01  \n",
       "4 2007-05-01  2006-04-01  "
      ]
     },
     "metadata": {},
     "output_type": "display_data"
    },
    {
     "data": {
      "text/plain": [
       "(2541019, 8)"
      ]
     },
     "metadata": {},
     "output_type": "display_data"
    }
   ],
   "source": [
    "display(df4.head())\n",
    "display(df4.shape)"
   ]
  },
  {
   "cell_type": "markdown",
   "metadata": {},
   "source": [
    "#### **Sequency/Consistency Analysis** (using standard deviation)"
   ]
  },
  {
   "cell_type": "code",
   "execution_count": 348,
   "metadata": {},
   "outputs": [],
   "source": [
    "## Slicing data for Consistency analysis\n",
    "\n",
    "df5 = df4[['CUST_CODE', 'SHOP_DATE']]"
   ]
  },
  {
   "cell_type": "code",
   "execution_count": 349,
   "metadata": {},
   "outputs": [
    {
     "data": {
      "text/html": [
       "<div>\n",
       "<style scoped>\n",
       "    .dataframe tbody tr th:only-of-type {\n",
       "        vertical-align: middle;\n",
       "    }\n",
       "\n",
       "    .dataframe tbody tr th {\n",
       "        vertical-align: top;\n",
       "    }\n",
       "\n",
       "    .dataframe thead th {\n",
       "        text-align: right;\n",
       "    }\n",
       "</style>\n",
       "<table border=\"1\" class=\"dataframe\">\n",
       "  <thead>\n",
       "    <tr style=\"text-align: right;\">\n",
       "      <th></th>\n",
       "      <th>CUST_CODE</th>\n",
       "      <th>SHOP_DATE</th>\n",
       "    </tr>\n",
       "  </thead>\n",
       "  <tbody>\n",
       "    <tr>\n",
       "      <th>0</th>\n",
       "      <td>CUST0000410727</td>\n",
       "      <td>2007-05-29</td>\n",
       "    </tr>\n",
       "    <tr>\n",
       "      <th>1</th>\n",
       "      <td>CUST0000307323</td>\n",
       "      <td>2007-05-30</td>\n",
       "    </tr>\n",
       "    <tr>\n",
       "      <th>2</th>\n",
       "      <td>CUST0000410727</td>\n",
       "      <td>2007-05-29</td>\n",
       "    </tr>\n",
       "    <tr>\n",
       "      <th>3</th>\n",
       "      <td>CUST0000190750</td>\n",
       "      <td>2007-05-29</td>\n",
       "    </tr>\n",
       "    <tr>\n",
       "      <th>4</th>\n",
       "      <td>CUST0000410727</td>\n",
       "      <td>2007-05-29</td>\n",
       "    </tr>\n",
       "  </tbody>\n",
       "</table>\n",
       "</div>"
      ],
      "text/plain": [
       "        CUST_CODE  SHOP_DATE\n",
       "0  CUST0000410727 2007-05-29\n",
       "1  CUST0000307323 2007-05-30\n",
       "2  CUST0000410727 2007-05-29\n",
       "3  CUST0000190750 2007-05-29\n",
       "4  CUST0000410727 2007-05-29"
      ]
     },
     "metadata": {},
     "output_type": "display_data"
    },
    {
     "data": {
      "text/plain": [
       "(2541019, 2)"
      ]
     },
     "metadata": {},
     "output_type": "display_data"
    }
   ],
   "source": [
    "display(df5.head())\n",
    "display(df5.shape)"
   ]
  },
  {
   "cell_type": "code",
   "execution_count": 350,
   "metadata": {},
   "outputs": [
    {
     "data": {
      "text/plain": [
       "5000"
      ]
     },
     "execution_count": 350,
     "metadata": {},
     "output_type": "execute_result"
    }
   ],
   "source": [
    "# Dropping duplicates\n",
    "\n",
    "df6 = df5.sort_values(by=['CUST_CODE', 'SHOP_DATE']).drop_duplicates()\n",
    "df6.CUST_CODE.nunique()"
   ]
  },
  {
   "cell_type": "code",
   "execution_count": 351,
   "metadata": {},
   "outputs": [
    {
     "data": {
      "text/html": [
       "<div>\n",
       "<style scoped>\n",
       "    .dataframe tbody tr th:only-of-type {\n",
       "        vertical-align: middle;\n",
       "    }\n",
       "\n",
       "    .dataframe tbody tr th {\n",
       "        vertical-align: top;\n",
       "    }\n",
       "\n",
       "    .dataframe thead th {\n",
       "        text-align: right;\n",
       "    }\n",
       "</style>\n",
       "<table border=\"1\" class=\"dataframe\">\n",
       "  <thead>\n",
       "    <tr style=\"text-align: right;\">\n",
       "      <th></th>\n",
       "      <th>CUST_CODE</th>\n",
       "      <th>SHOP_DATE</th>\n",
       "    </tr>\n",
       "  </thead>\n",
       "  <tbody>\n",
       "    <tr>\n",
       "      <th>25981</th>\n",
       "      <td>CUST0000000013</td>\n",
       "      <td>2007-04-23</td>\n",
       "    </tr>\n",
       "    <tr>\n",
       "      <th>11826</th>\n",
       "      <td>CUST0000000013</td>\n",
       "      <td>2007-05-22</td>\n",
       "    </tr>\n",
       "    <tr>\n",
       "      <th>11057</th>\n",
       "      <td>CUST0000000013</td>\n",
       "      <td>2007-06-01</td>\n",
       "    </tr>\n",
       "    <tr>\n",
       "      <th>11389</th>\n",
       "      <td>CUST0000000013</td>\n",
       "      <td>2007-07-10</td>\n",
       "    </tr>\n",
       "    <tr>\n",
       "      <th>11222</th>\n",
       "      <td>CUST0000000013</td>\n",
       "      <td>2007-07-19</td>\n",
       "    </tr>\n",
       "  </tbody>\n",
       "</table>\n",
       "</div>"
      ],
      "text/plain": [
       "            CUST_CODE  SHOP_DATE\n",
       "25981  CUST0000000013 2007-04-23\n",
       "11826  CUST0000000013 2007-05-22\n",
       "11057  CUST0000000013 2007-06-01\n",
       "11389  CUST0000000013 2007-07-10\n",
       "11222  CUST0000000013 2007-07-19"
      ]
     },
     "metadata": {},
     "output_type": "display_data"
    },
    {
     "data": {
      "text/plain": [
       "5000"
      ]
     },
     "metadata": {},
     "output_type": "display_data"
    }
   ],
   "source": [
    "display(df6.head())\n",
    "display(df6.CUST_CODE.nunique())"
   ]
  },
  {
   "cell_type": "code",
   "execution_count": 352,
   "metadata": {},
   "outputs": [],
   "source": [
    "# calulating diffrence from last visit made to the store\n",
    "\n",
    "df6['diff'] = df6.sort_values(by=['CUST_CODE', 'SHOP_DATE']).groupby('CUST_CODE')['SHOP_DATE'].diff()"
   ]
  },
  {
   "cell_type": "code",
   "execution_count": 353,
   "metadata": {},
   "outputs": [
    {
     "data": {
      "text/html": [
       "<div>\n",
       "<style scoped>\n",
       "    .dataframe tbody tr th:only-of-type {\n",
       "        vertical-align: middle;\n",
       "    }\n",
       "\n",
       "    .dataframe tbody tr th {\n",
       "        vertical-align: top;\n",
       "    }\n",
       "\n",
       "    .dataframe thead th {\n",
       "        text-align: right;\n",
       "    }\n",
       "</style>\n",
       "<table border=\"1\" class=\"dataframe\">\n",
       "  <thead>\n",
       "    <tr style=\"text-align: right;\">\n",
       "      <th></th>\n",
       "      <th>CUST_CODE</th>\n",
       "      <th>SHOP_DATE</th>\n",
       "      <th>diff</th>\n",
       "    </tr>\n",
       "  </thead>\n",
       "  <tbody>\n",
       "    <tr>\n",
       "      <th>25981</th>\n",
       "      <td>CUST0000000013</td>\n",
       "      <td>2007-04-23</td>\n",
       "      <td>NaT</td>\n",
       "    </tr>\n",
       "    <tr>\n",
       "      <th>11826</th>\n",
       "      <td>CUST0000000013</td>\n",
       "      <td>2007-05-22</td>\n",
       "      <td>29 days</td>\n",
       "    </tr>\n",
       "    <tr>\n",
       "      <th>11057</th>\n",
       "      <td>CUST0000000013</td>\n",
       "      <td>2007-06-01</td>\n",
       "      <td>10 days</td>\n",
       "    </tr>\n",
       "    <tr>\n",
       "      <th>11389</th>\n",
       "      <td>CUST0000000013</td>\n",
       "      <td>2007-07-10</td>\n",
       "      <td>39 days</td>\n",
       "    </tr>\n",
       "    <tr>\n",
       "      <th>11222</th>\n",
       "      <td>CUST0000000013</td>\n",
       "      <td>2007-07-19</td>\n",
       "      <td>9 days</td>\n",
       "    </tr>\n",
       "  </tbody>\n",
       "</table>\n",
       "</div>"
      ],
      "text/plain": [
       "            CUST_CODE  SHOP_DATE    diff\n",
       "25981  CUST0000000013 2007-04-23     NaT\n",
       "11826  CUST0000000013 2007-05-22 29 days\n",
       "11057  CUST0000000013 2007-06-01 10 days\n",
       "11389  CUST0000000013 2007-07-10 39 days\n",
       "11222  CUST0000000013 2007-07-19  9 days"
      ]
     },
     "metadata": {},
     "output_type": "display_data"
    },
    {
     "data": {
      "text/plain": [
       "(347966, 3)"
      ]
     },
     "metadata": {},
     "output_type": "display_data"
    }
   ],
   "source": [
    "display(df6.head())\n",
    "display(df6.shape)"
   ]
  },
  {
   "cell_type": "code",
   "execution_count": 354,
   "metadata": {},
   "outputs": [
    {
     "data": {
      "text/html": [
       "<div>\n",
       "<style scoped>\n",
       "    .dataframe tbody tr th:only-of-type {\n",
       "        vertical-align: middle;\n",
       "    }\n",
       "\n",
       "    .dataframe tbody tr th {\n",
       "        vertical-align: top;\n",
       "    }\n",
       "\n",
       "    .dataframe thead th {\n",
       "        text-align: right;\n",
       "    }\n",
       "</style>\n",
       "<table border=\"1\" class=\"dataframe\">\n",
       "  <thead>\n",
       "    <tr style=\"text-align: right;\">\n",
       "      <th></th>\n",
       "      <th>CUST_CODE</th>\n",
       "      <th>SHOP_DATE</th>\n",
       "      <th>diff</th>\n",
       "    </tr>\n",
       "  </thead>\n",
       "  <tbody>\n",
       "    <tr>\n",
       "      <th>11826</th>\n",
       "      <td>CUST0000000013</td>\n",
       "      <td>2007-05-22</td>\n",
       "      <td>29 days</td>\n",
       "    </tr>\n",
       "    <tr>\n",
       "      <th>11057</th>\n",
       "      <td>CUST0000000013</td>\n",
       "      <td>2007-06-01</td>\n",
       "      <td>10 days</td>\n",
       "    </tr>\n",
       "    <tr>\n",
       "      <th>11389</th>\n",
       "      <td>CUST0000000013</td>\n",
       "      <td>2007-07-10</td>\n",
       "      <td>39 days</td>\n",
       "    </tr>\n",
       "    <tr>\n",
       "      <th>11222</th>\n",
       "      <td>CUST0000000013</td>\n",
       "      <td>2007-07-19</td>\n",
       "      <td>9 days</td>\n",
       "    </tr>\n",
       "    <tr>\n",
       "      <th>24311</th>\n",
       "      <td>CUST0000000013</td>\n",
       "      <td>2007-10-08</td>\n",
       "      <td>81 days</td>\n",
       "    </tr>\n",
       "  </tbody>\n",
       "</table>\n",
       "</div>"
      ],
      "text/plain": [
       "            CUST_CODE  SHOP_DATE    diff\n",
       "11826  CUST0000000013 2007-05-22 29 days\n",
       "11057  CUST0000000013 2007-06-01 10 days\n",
       "11389  CUST0000000013 2007-07-10 39 days\n",
       "11222  CUST0000000013 2007-07-19  9 days\n",
       "24311  CUST0000000013 2007-10-08 81 days"
      ]
     },
     "execution_count": 354,
     "metadata": {},
     "output_type": "execute_result"
    }
   ],
   "source": [
    "# dropping na\n",
    "\n",
    "df7 = df6.dropna(subset=['diff'])\n",
    "df7.head()"
   ]
  },
  {
   "cell_type": "code",
   "execution_count": 355,
   "metadata": {},
   "outputs": [
    {
     "name": "stderr",
     "output_type": "stream",
     "text": [
      "/Users/adityakamboj/anaconda3/lib/python3.7/site-packages/ipykernel_launcher.py:3: SettingWithCopyWarning: \n",
      "A value is trying to be set on a copy of a slice from a DataFrame.\n",
      "Try using .loc[row_indexer,col_indexer] = value instead\n",
      "\n",
      "See the caveats in the documentation: http://pandas.pydata.org/pandas-docs/stable/indexing.html#indexing-view-versus-copy\n",
      "  This is separate from the ipykernel package so we can avoid doing imports until\n"
     ]
    }
   ],
   "source": [
    "#changing days to int data type\n",
    "\n",
    "df7['diff'] = df7['diff'].dt.days.astype('int16')"
   ]
  },
  {
   "cell_type": "code",
   "execution_count": 313,
   "metadata": {},
   "outputs": [],
   "source": [
    "df7.to_csv(r'/Users/adityakamboj/Desktop/Dunn/diff_export.csv')"
   ]
  },
  {
   "cell_type": "markdown",
   "metadata": {},
   "source": [
    "**This is one area where I couldn't figure out the logic of how would I impute 2 time strore visitors, 1st visit as 0, as NaN values (1st visit) for those customers needs to be imputed for convenience of calculation.**\n",
    "\n",
    "**So I simply downloaded this chunk and did the calculation in excel**"
   ]
  },
  {
   "cell_type": "code",
   "execution_count": 283,
   "metadata": {},
   "outputs": [
    {
     "data": {
      "text/html": [
       "<div>\n",
       "<style scoped>\n",
       "    .dataframe tbody tr th:only-of-type {\n",
       "        vertical-align: middle;\n",
       "    }\n",
       "\n",
       "    .dataframe tbody tr th {\n",
       "        vertical-align: top;\n",
       "    }\n",
       "\n",
       "    .dataframe thead th {\n",
       "        text-align: right;\n",
       "    }\n",
       "</style>\n",
       "<table border=\"1\" class=\"dataframe\">\n",
       "  <thead>\n",
       "    <tr style=\"text-align: right;\">\n",
       "      <th></th>\n",
       "      <th>CUST_CODE</th>\n",
       "      <th>std</th>\n",
       "    </tr>\n",
       "  </thead>\n",
       "  <tbody>\n",
       "    <tr>\n",
       "      <th>0</th>\n",
       "      <td>CUST0000000013</td>\n",
       "      <td>27.631010</td>\n",
       "    </tr>\n",
       "    <tr>\n",
       "      <th>1</th>\n",
       "      <td>CUST0000000055</td>\n",
       "      <td>57.188189</td>\n",
       "    </tr>\n",
       "    <tr>\n",
       "      <th>2</th>\n",
       "      <td>CUST0000000679</td>\n",
       "      <td>59.435054</td>\n",
       "    </tr>\n",
       "    <tr>\n",
       "      <th>3</th>\n",
       "      <td>CUST0000001052</td>\n",
       "      <td>20.222441</td>\n",
       "    </tr>\n",
       "    <tr>\n",
       "      <th>4</th>\n",
       "      <td>CUST0000001058</td>\n",
       "      <td>NaN</td>\n",
       "    </tr>\n",
       "  </tbody>\n",
       "</table>\n",
       "</div>"
      ],
      "text/plain": [
       "        CUST_CODE        std\n",
       "0  CUST0000000013  27.631010\n",
       "1  CUST0000000055  57.188189\n",
       "2  CUST0000000679  59.435054\n",
       "3  CUST0000001052  20.222441\n",
       "4  CUST0000001058        NaN"
      ]
     },
     "metadata": {},
     "output_type": "display_data"
    }
   ],
   "source": [
    "# calculating standard deviation by customer store visits (measurement of spread between visits)\n",
    "\n",
    "df8 = df7.groupby('CUST_CODE')['diff'].agg('std').reset_index(name = 'std')\n",
    "display(df8.head())"
   ]
  },
  {
   "cell_type": "code",
   "execution_count": 364,
   "metadata": {},
   "outputs": [],
   "source": [
    "#rfm_df.to_csv(r'/Users/adityakamboj/Desktop/Dunn/rfm_export.csv')"
   ]
  },
  {
   "cell_type": "code",
   "execution_count": 285,
   "metadata": {},
   "outputs": [
    {
     "data": {
      "text/html": [
       "<div>\n",
       "<style scoped>\n",
       "    .dataframe tbody tr th:only-of-type {\n",
       "        vertical-align: middle;\n",
       "    }\n",
       "\n",
       "    .dataframe tbody tr th {\n",
       "        vertical-align: top;\n",
       "    }\n",
       "\n",
       "    .dataframe thead th {\n",
       "        text-align: right;\n",
       "    }\n",
       "</style>\n",
       "<table border=\"1\" class=\"dataframe\">\n",
       "  <thead>\n",
       "    <tr style=\"text-align: right;\">\n",
       "      <th></th>\n",
       "      <th>CUST_CODE</th>\n",
       "      <th>std</th>\n",
       "      <th>std_q</th>\n",
       "    </tr>\n",
       "  </thead>\n",
       "  <tbody>\n",
       "    <tr>\n",
       "      <th>0</th>\n",
       "      <td>CUST0000000013</td>\n",
       "      <td>27.631010</td>\n",
       "      <td>2.0</td>\n",
       "    </tr>\n",
       "    <tr>\n",
       "      <th>1</th>\n",
       "      <td>CUST0000000055</td>\n",
       "      <td>57.188189</td>\n",
       "      <td>1.0</td>\n",
       "    </tr>\n",
       "    <tr>\n",
       "      <th>2</th>\n",
       "      <td>CUST0000000679</td>\n",
       "      <td>59.435054</td>\n",
       "      <td>1.0</td>\n",
       "    </tr>\n",
       "    <tr>\n",
       "      <th>3</th>\n",
       "      <td>CUST0000001052</td>\n",
       "      <td>20.222441</td>\n",
       "      <td>2.0</td>\n",
       "    </tr>\n",
       "    <tr>\n",
       "      <th>4</th>\n",
       "      <td>CUST0000001058</td>\n",
       "      <td>NaN</td>\n",
       "      <td>NaN</td>\n",
       "    </tr>\n",
       "  </tbody>\n",
       "</table>\n",
       "</div>"
      ],
      "text/plain": [
       "        CUST_CODE        std std_q\n",
       "0  CUST0000000013  27.631010   2.0\n",
       "1  CUST0000000055  57.188189   1.0\n",
       "2  CUST0000000679  59.435054   1.0\n",
       "3  CUST0000001052  20.222441   2.0\n",
       "4  CUST0000001058        NaN   NaN"
      ]
     },
     "execution_count": 285,
     "metadata": {},
     "output_type": "execute_result"
    }
   ],
   "source": [
    "# splitting in quantiles\n",
    "\n",
    "std_label = range(4, 0,-1)\n",
    "df8['std_q'] = pd.qcut(df8['std'],4,labels=std_label)\n",
    "df8.head()"
   ]
  },
  {
   "cell_type": "code",
   "execution_count": 286,
   "metadata": {},
   "outputs": [],
   "source": [
    "df8.to_csv(r'/Users/adityakamboj/Desktop/Dunn/std_export.csv')"
   ]
  },
  {
   "cell_type": "markdown",
   "metadata": {},
   "source": [
    "#### **CLTV**"
   ]
  },
  {
   "cell_type": "code",
   "execution_count": 418,
   "metadata": {},
   "outputs": [
    {
     "data": {
      "text/html": [
       "<div>\n",
       "<style scoped>\n",
       "    .dataframe tbody tr th:only-of-type {\n",
       "        vertical-align: middle;\n",
       "    }\n",
       "\n",
       "    .dataframe tbody tr th {\n",
       "        vertical-align: top;\n",
       "    }\n",
       "\n",
       "    .dataframe thead th {\n",
       "        text-align: right;\n",
       "    }\n",
       "</style>\n",
       "<table border=\"1\" class=\"dataframe\">\n",
       "  <thead>\n",
       "    <tr style=\"text-align: right;\">\n",
       "      <th></th>\n",
       "      <th>days</th>\n",
       "      <th>units</th>\n",
       "      <th>transactions</th>\n",
       "      <th>spend</th>\n",
       "    </tr>\n",
       "    <tr>\n",
       "      <th>CUST_CODE</th>\n",
       "      <th></th>\n",
       "      <th></th>\n",
       "      <th></th>\n",
       "      <th></th>\n",
       "    </tr>\n",
       "  </thead>\n",
       "  <tbody>\n",
       "    <tr>\n",
       "      <th>CUST0000000013</th>\n",
       "      <td>139</td>\n",
       "      <td>122</td>\n",
       "      <td>12</td>\n",
       "      <td>261.12</td>\n",
       "    </tr>\n",
       "    <tr>\n",
       "      <th>CUST0000000055</th>\n",
       "      <td>19</td>\n",
       "      <td>320</td>\n",
       "      <td>15</td>\n",
       "      <td>2671.55</td>\n",
       "    </tr>\n",
       "    <tr>\n",
       "      <th>CUST0000000679</th>\n",
       "      <td>73</td>\n",
       "      <td>78</td>\n",
       "      <td>14</td>\n",
       "      <td>141.73</td>\n",
       "    </tr>\n",
       "    <tr>\n",
       "      <th>CUST0000001052</th>\n",
       "      <td>23</td>\n",
       "      <td>98</td>\n",
       "      <td>31</td>\n",
       "      <td>316.90</td>\n",
       "    </tr>\n",
       "    <tr>\n",
       "      <th>CUST0000001058</th>\n",
       "      <td>45</td>\n",
       "      <td>46</td>\n",
       "      <td>2</td>\n",
       "      <td>137.50</td>\n",
       "    </tr>\n",
       "  </tbody>\n",
       "</table>\n",
       "</div>"
      ],
      "text/plain": [
       "                days  units  transactions    spend\n",
       "CUST_CODE                                         \n",
       "CUST0000000013   139    122            12   261.12\n",
       "CUST0000000055    19    320            15  2671.55\n",
       "CUST0000000679    73     78            14   141.73\n",
       "CUST0000001052    23     98            31   316.90\n",
       "CUST0000001058    45     46             2   137.50"
      ]
     },
     "execution_count": 418,
     "metadata": {},
     "output_type": "execute_result"
    }
   ],
   "source": [
    "cltv = df2.groupby('CUST_CODE').agg({'SHOP_DATE': lambda date: (current - date.max()).days,\n",
    "                                     'QUANTITY': 'sum',\n",
    "                                        'BASKET_ID': 'nunique',\n",
    "                                        'Total_Spends': 'sum'})\n",
    "\n",
    "cltv.rename(columns={'SHOP_DATE':'days',\n",
    "                         'QUANTITY': 'units',\n",
    "                         'BASKET_ID': 'transactions',\n",
    "                         'Total_Spends': 'spend'}, inplace=True)\n",
    "\n",
    "cltv.head()"
   ]
  },
  {
   "cell_type": "code",
   "execution_count": 419,
   "metadata": {},
   "outputs": [
    {
     "data": {
      "text/html": [
       "<div>\n",
       "<style scoped>\n",
       "    .dataframe tbody tr th:only-of-type {\n",
       "        vertical-align: middle;\n",
       "    }\n",
       "\n",
       "    .dataframe tbody tr th {\n",
       "        vertical-align: top;\n",
       "    }\n",
       "\n",
       "    .dataframe thead th {\n",
       "        text-align: right;\n",
       "    }\n",
       "</style>\n",
       "<table border=\"1\" class=\"dataframe\">\n",
       "  <thead>\n",
       "    <tr style=\"text-align: right;\">\n",
       "      <th></th>\n",
       "      <th>days</th>\n",
       "      <th>units</th>\n",
       "      <th>transactions</th>\n",
       "      <th>spend</th>\n",
       "      <th>Avg order values</th>\n",
       "      <th>profit_margin</th>\n",
       "    </tr>\n",
       "    <tr>\n",
       "      <th>CUST_CODE</th>\n",
       "      <th></th>\n",
       "      <th></th>\n",
       "      <th></th>\n",
       "      <th></th>\n",
       "      <th></th>\n",
       "      <th></th>\n",
       "    </tr>\n",
       "  </thead>\n",
       "  <tbody>\n",
       "    <tr>\n",
       "      <th>CUST0000000013</th>\n",
       "      <td>139</td>\n",
       "      <td>122</td>\n",
       "      <td>12</td>\n",
       "      <td>261.12</td>\n",
       "      <td>21.760000</td>\n",
       "      <td>13.0560</td>\n",
       "    </tr>\n",
       "    <tr>\n",
       "      <th>CUST0000000055</th>\n",
       "      <td>19</td>\n",
       "      <td>320</td>\n",
       "      <td>15</td>\n",
       "      <td>2671.55</td>\n",
       "      <td>178.103333</td>\n",
       "      <td>133.5775</td>\n",
       "    </tr>\n",
       "    <tr>\n",
       "      <th>CUST0000000679</th>\n",
       "      <td>73</td>\n",
       "      <td>78</td>\n",
       "      <td>14</td>\n",
       "      <td>141.73</td>\n",
       "      <td>10.123571</td>\n",
       "      <td>7.0865</td>\n",
       "    </tr>\n",
       "    <tr>\n",
       "      <th>CUST0000001052</th>\n",
       "      <td>23</td>\n",
       "      <td>98</td>\n",
       "      <td>31</td>\n",
       "      <td>316.90</td>\n",
       "      <td>10.222581</td>\n",
       "      <td>15.8450</td>\n",
       "    </tr>\n",
       "    <tr>\n",
       "      <th>CUST0000001058</th>\n",
       "      <td>45</td>\n",
       "      <td>46</td>\n",
       "      <td>2</td>\n",
       "      <td>137.50</td>\n",
       "      <td>68.750000</td>\n",
       "      <td>6.8750</td>\n",
       "    </tr>\n",
       "  </tbody>\n",
       "</table>\n",
       "</div>"
      ],
      "text/plain": [
       "                days  units  transactions    spend  Avg order values  \\\n",
       "CUST_CODE                                                              \n",
       "CUST0000000013   139    122            12   261.12         21.760000   \n",
       "CUST0000000055    19    320            15  2671.55        178.103333   \n",
       "CUST0000000679    73     78            14   141.73         10.123571   \n",
       "CUST0000001052    23     98            31   316.90         10.222581   \n",
       "CUST0000001058    45     46             2   137.50         68.750000   \n",
       "\n",
       "                profit_margin  \n",
       "CUST_CODE                      \n",
       "CUST0000000013        13.0560  \n",
       "CUST0000000055       133.5775  \n",
       "CUST0000000679         7.0865  \n",
       "CUST0000001052        15.8450  \n",
       "CUST0000001058         6.8750  "
      ]
     },
     "execution_count": 419,
     "metadata": {},
     "output_type": "execute_result"
    }
   ],
   "source": [
    "# CLTV = ((Average Order Value x Purchase Frequency)/Churn Rate) x Profit margin.\n",
    "\n",
    "#average order value\n",
    "cltv['Avg order values'] = cltv['spend']/cltv['transactions']\n",
    "#purchase freqeuncy\n",
    "purchase_frequency=sum(cltv['transactions'])/cltv.shape[0]\n",
    "repeat_rate=cltv[cltv['transactions'] > 1].shape[0]/cltv.shape[0]\n",
    "#Churn rate\n",
    "churn_rate=1-repeat_rate\n",
    "#profit margin\n",
    "cltv['profit_margin']=cltv['spend']*0.05\n",
    "\n",
    "cltv.head()"
   ]
  },
  {
   "cell_type": "code",
   "execution_count": 621,
   "metadata": {},
   "outputs": [
    {
     "data": {
      "text/html": [
       "<div>\n",
       "<style scoped>\n",
       "    .dataframe tbody tr th:only-of-type {\n",
       "        vertical-align: middle;\n",
       "    }\n",
       "\n",
       "    .dataframe tbody tr th {\n",
       "        vertical-align: top;\n",
       "    }\n",
       "\n",
       "    .dataframe thead th {\n",
       "        text-align: right;\n",
       "    }\n",
       "</style>\n",
       "<table border=\"1\" class=\"dataframe\">\n",
       "  <thead>\n",
       "    <tr style=\"text-align: right;\">\n",
       "      <th></th>\n",
       "      <th>days</th>\n",
       "      <th>units</th>\n",
       "      <th>transactions</th>\n",
       "      <th>spend</th>\n",
       "      <th>Avg order values</th>\n",
       "      <th>profit_margin</th>\n",
       "      <th>CLV</th>\n",
       "      <th>CLTV</th>\n",
       "      <th>c_q</th>\n",
       "    </tr>\n",
       "    <tr>\n",
       "      <th>CUST_CODE</th>\n",
       "      <th></th>\n",
       "      <th></th>\n",
       "      <th></th>\n",
       "      <th></th>\n",
       "      <th></th>\n",
       "      <th></th>\n",
       "      <th></th>\n",
       "      <th></th>\n",
       "      <th></th>\n",
       "    </tr>\n",
       "  </thead>\n",
       "  <tbody>\n",
       "    <tr>\n",
       "      <th>CUST0000000013</th>\n",
       "      <td>139</td>\n",
       "      <td>122</td>\n",
       "      <td>12</td>\n",
       "      <td>261.12</td>\n",
       "      <td>21.760000</td>\n",
       "      <td>13.0560</td>\n",
       "      <td>13270.880000</td>\n",
       "      <td>1.732646e+05</td>\n",
       "      <td>3</td>\n",
       "    </tr>\n",
       "    <tr>\n",
       "      <th>CUST0000000055</th>\n",
       "      <td>19</td>\n",
       "      <td>320</td>\n",
       "      <td>15</td>\n",
       "      <td>2671.55</td>\n",
       "      <td>178.103333</td>\n",
       "      <td>133.5775</td>\n",
       "      <td>108620.770417</td>\n",
       "      <td>1.450929e+07</td>\n",
       "      <td>4</td>\n",
       "    </tr>\n",
       "    <tr>\n",
       "      <th>CUST0000000679</th>\n",
       "      <td>73</td>\n",
       "      <td>78</td>\n",
       "      <td>14</td>\n",
       "      <td>141.73</td>\n",
       "      <td>10.123571</td>\n",
       "      <td>7.0865</td>\n",
       "      <td>6174.113125</td>\n",
       "      <td>4.375285e+04</td>\n",
       "      <td>2</td>\n",
       "    </tr>\n",
       "    <tr>\n",
       "      <th>CUST0000001052</th>\n",
       "      <td>23</td>\n",
       "      <td>98</td>\n",
       "      <td>31</td>\n",
       "      <td>316.90</td>\n",
       "      <td>10.222581</td>\n",
       "      <td>15.8450</td>\n",
       "      <td>6234.496371</td>\n",
       "      <td>9.878559e+04</td>\n",
       "      <td>2</td>\n",
       "    </tr>\n",
       "    <tr>\n",
       "      <th>CUST0000001058</th>\n",
       "      <td>45</td>\n",
       "      <td>46</td>\n",
       "      <td>2</td>\n",
       "      <td>137.50</td>\n",
       "      <td>68.750000</td>\n",
       "      <td>6.8750</td>\n",
       "      <td>41928.906250</td>\n",
       "      <td>2.882612e+05</td>\n",
       "      <td>4</td>\n",
       "    </tr>\n",
       "  </tbody>\n",
       "</table>\n",
       "</div>"
      ],
      "text/plain": [
       "                days  units  transactions    spend  Avg order values  \\\n",
       "CUST_CODE                                                              \n",
       "CUST0000000013   139    122            12   261.12         21.760000   \n",
       "CUST0000000055    19    320            15  2671.55        178.103333   \n",
       "CUST0000000679    73     78            14   141.73         10.123571   \n",
       "CUST0000001052    23     98            31   316.90         10.222581   \n",
       "CUST0000001058    45     46             2   137.50         68.750000   \n",
       "\n",
       "                profit_margin            CLV          CLTV c_q  \n",
       "CUST_CODE                                                       \n",
       "CUST0000000013        13.0560   13270.880000  1.732646e+05   3  \n",
       "CUST0000000055       133.5775  108620.770417  1.450929e+07   4  \n",
       "CUST0000000679         7.0865    6174.113125  4.375285e+04   2  \n",
       "CUST0000001052        15.8450    6234.496371  9.878559e+04   2  \n",
       "CUST0000001058         6.8750   41928.906250  2.882612e+05   4  "
      ]
     },
     "execution_count": 621,
     "metadata": {},
     "output_type": "execute_result"
    }
   ],
   "source": [
    "#CLV was used in the analysis and not CLTV as to calcualte CLTV I made assumption of 5% profit margin, which did not seem to a good rationale\n",
    "\n",
    "cltv['CLV']=(cltv['Avg order values']*purchase_frequency)/churn_rate\n",
    "cltv['CLTV']=cltv['CLV']*cltv['profit_margin']\n",
    "\n",
    "cltv['c_q'] = pd.qcut(cltv['CLV'], 4, labels=mon_label)\n",
    "\n",
    "cltv.head()"
   ]
  },
  {
   "cell_type": "code",
   "execution_count": 622,
   "metadata": {},
   "outputs": [],
   "source": [
    "cltv.to_csv(r'/Users/adityakamboj/Desktop/Dunn/cltv_export.csv')"
   ]
  },
  {
   "cell_type": "markdown",
   "metadata": {},
   "source": [
    "#### **Methodology - rfmc** joining rfm + c (consistency/sequency)"
   ]
  },
  {
   "cell_type": "code",
   "execution_count": 361,
   "metadata": {},
   "outputs": [
    {
     "data": {
      "text/html": [
       "<div>\n",
       "<style scoped>\n",
       "    .dataframe tbody tr th:only-of-type {\n",
       "        vertical-align: middle;\n",
       "    }\n",
       "\n",
       "    .dataframe tbody tr th {\n",
       "        vertical-align: top;\n",
       "    }\n",
       "\n",
       "    .dataframe thead th {\n",
       "        text-align: right;\n",
       "    }\n",
       "</style>\n",
       "<table border=\"1\" class=\"dataframe\">\n",
       "  <thead>\n",
       "    <tr style=\"text-align: right;\">\n",
       "      <th></th>\n",
       "      <th>CUST_CODE</th>\n",
       "      <th>recency</th>\n",
       "      <th>frequency</th>\n",
       "      <th>monetary value</th>\n",
       "      <th>rfm_segment</th>\n",
       "      <th>std_q</th>\n",
       "    </tr>\n",
       "  </thead>\n",
       "  <tbody>\n",
       "    <tr>\n",
       "      <th>0</th>\n",
       "      <td>CUST0000000013</td>\n",
       "      <td>139</td>\n",
       "      <td>12</td>\n",
       "      <td>261.12</td>\n",
       "      <td>122</td>\n",
       "      <td>2.0</td>\n",
       "    </tr>\n",
       "    <tr>\n",
       "      <th>1</th>\n",
       "      <td>CUST0000000055</td>\n",
       "      <td>19</td>\n",
       "      <td>15</td>\n",
       "      <td>2671.55</td>\n",
       "      <td>224</td>\n",
       "      <td>1.0</td>\n",
       "    </tr>\n",
       "    <tr>\n",
       "      <th>2</th>\n",
       "      <td>CUST0000000679</td>\n",
       "      <td>73</td>\n",
       "      <td>14</td>\n",
       "      <td>141.73</td>\n",
       "      <td>222</td>\n",
       "      <td>1.0</td>\n",
       "    </tr>\n",
       "    <tr>\n",
       "      <th>3</th>\n",
       "      <td>CUST0000001052</td>\n",
       "      <td>23</td>\n",
       "      <td>31</td>\n",
       "      <td>316.90</td>\n",
       "      <td>222</td>\n",
       "      <td>2.0</td>\n",
       "    </tr>\n",
       "    <tr>\n",
       "      <th>4</th>\n",
       "      <td>CUST0000001058</td>\n",
       "      <td>45</td>\n",
       "      <td>2</td>\n",
       "      <td>137.50</td>\n",
       "      <td>212</td>\n",
       "      <td>NaN</td>\n",
       "    </tr>\n",
       "  </tbody>\n",
       "</table>\n",
       "</div>"
      ],
      "text/plain": [
       "        CUST_CODE  recency  frequency  monetary value rfm_segment std_q\n",
       "0  CUST0000000013      139         12          261.12         122   2.0\n",
       "1  CUST0000000055       19         15         2671.55         224   1.0\n",
       "2  CUST0000000679       73         14          141.73         222   1.0\n",
       "3  CUST0000001052       23         31          316.90         222   2.0\n",
       "4  CUST0000001058       45          2          137.50         212   NaN"
      ]
     },
     "metadata": {},
     "output_type": "display_data"
    },
    {
     "data": {
      "text/plain": [
       "(4356, 6)"
      ]
     },
     "metadata": {},
     "output_type": "display_data"
    }
   ],
   "source": [
    "#Merging the datasets\n",
    "rfmc = pd.merge(rfm_df,df8, on = 'CUST_CODE').drop(['r_q','f_q','m_q','std', 'rfm_score'], axis=1)\n",
    "display(rfmc.head())\n",
    "display(rfmc.shape)"
   ]
  },
  {
   "cell_type": "code",
   "execution_count": 362,
   "metadata": {},
   "outputs": [
    {
     "data": {
      "text/html": [
       "<div>\n",
       "<style scoped>\n",
       "    .dataframe tbody tr th:only-of-type {\n",
       "        vertical-align: middle;\n",
       "    }\n",
       "\n",
       "    .dataframe tbody tr th {\n",
       "        vertical-align: top;\n",
       "    }\n",
       "\n",
       "    .dataframe thead th {\n",
       "        text-align: right;\n",
       "    }\n",
       "</style>\n",
       "<table border=\"1\" class=\"dataframe\">\n",
       "  <thead>\n",
       "    <tr style=\"text-align: right;\">\n",
       "      <th></th>\n",
       "      <th>CUST_CODE</th>\n",
       "      <th>recency</th>\n",
       "      <th>frequency</th>\n",
       "      <th>monetary value</th>\n",
       "      <th>rfmc</th>\n",
       "    </tr>\n",
       "  </thead>\n",
       "  <tbody>\n",
       "    <tr>\n",
       "      <th>0</th>\n",
       "      <td>CUST0000000013</td>\n",
       "      <td>139</td>\n",
       "      <td>12</td>\n",
       "      <td>261.12</td>\n",
       "      <td>1222</td>\n",
       "    </tr>\n",
       "    <tr>\n",
       "      <th>1</th>\n",
       "      <td>CUST0000000055</td>\n",
       "      <td>19</td>\n",
       "      <td>15</td>\n",
       "      <td>2671.55</td>\n",
       "      <td>2241</td>\n",
       "    </tr>\n",
       "    <tr>\n",
       "      <th>2</th>\n",
       "      <td>CUST0000000679</td>\n",
       "      <td>73</td>\n",
       "      <td>14</td>\n",
       "      <td>141.73</td>\n",
       "      <td>2221</td>\n",
       "    </tr>\n",
       "    <tr>\n",
       "      <th>3</th>\n",
       "      <td>CUST0000001052</td>\n",
       "      <td>23</td>\n",
       "      <td>31</td>\n",
       "      <td>316.90</td>\n",
       "      <td>2222</td>\n",
       "    </tr>\n",
       "    <tr>\n",
       "      <th>5</th>\n",
       "      <td>CUST0000001098</td>\n",
       "      <td>19</td>\n",
       "      <td>41</td>\n",
       "      <td>751.69</td>\n",
       "      <td>2332</td>\n",
       "    </tr>\n",
       "  </tbody>\n",
       "</table>\n",
       "</div>"
      ],
      "text/plain": [
       "        CUST_CODE  recency  frequency  monetary value  rfmc\n",
       "0  CUST0000000013      139         12          261.12  1222\n",
       "1  CUST0000000055       19         15         2671.55  2241\n",
       "2  CUST0000000679       73         14          141.73  2221\n",
       "3  CUST0000001052       23         31          316.90  2222\n",
       "5  CUST0000001098       19         41          751.69  2332"
      ]
     },
     "execution_count": 362,
     "metadata": {},
     "output_type": "execute_result"
    }
   ],
   "source": [
    "rfmc = rfmc.dropna(subset=['std_q'])\n",
    "rfmc['rfmc'] = rfmc['rfm_segment'].astype('str') + rfmc['std_q'].astype('str')\n",
    "rfmc = rfmc.drop(['std_q','rfm_segment'], axis = 1)\n",
    "rfmc.head()"
   ]
  },
  {
   "cell_type": "code",
   "execution_count": 363,
   "metadata": {},
   "outputs": [
    {
     "data": {
      "text/plain": [
       "4444    457\n",
       "2221    252\n",
       "3444    210\n",
       "4434    139\n",
       "2222    134\n",
       "3333    131\n",
       "4333    100\n",
       "3332     98\n",
       "4343     96\n",
       "3343     95\n",
       "3221     86\n",
       "4443     84\n",
       "2211     83\n",
       "3222     74\n",
       "2332     74\n",
       "3443     73\n",
       "2333     72\n",
       "1111     71\n",
       "2232     70\n",
       "3434     67\n",
       "2231     65\n",
       "4332     64\n",
       "4433     63\n",
       "2111     58\n",
       "3322     56\n",
       "1221     56\n",
       "3433     52\n",
       "2343     50\n",
       "1121     43\n",
       "2322     40\n",
       "Name: rfmc, dtype: int64"
      ]
     },
     "execution_count": 363,
     "metadata": {},
     "output_type": "execute_result"
    }
   ],
   "source": [
    "rfmc['rfmc'].value_counts()[:30]"
   ]
  },
  {
   "cell_type": "code",
   "execution_count": 294,
   "metadata": {},
   "outputs": [],
   "source": [
    "rfmc.to_csv(r'/Users/adityakamboj/Desktop/Dunn/rfmc_export.csv')"
   ]
  },
  {
   "cell_type": "code",
   "execution_count": 295,
   "metadata": {},
   "outputs": [],
   "source": [
    "df6['previous_visit'] = df6.groupby('CUST_CODE')['SHOP_DATE'].shift()"
   ]
  },
  {
   "cell_type": "code",
   "execution_count": 298,
   "metadata": {},
   "outputs": [],
   "source": [
    "averagespend.to_csv(r'/Users/adityakamboj/Desktop/Dunn/averagespend_export.csv')"
   ]
  },
  {
   "cell_type": "code",
   "execution_count": 314,
   "metadata": {},
   "outputs": [],
   "source": [
    "df6.to_csv(r'/Users/adityakamboj/Desktop/Dunn/df6_export.csv')"
   ]
  },
  {
   "cell_type": "code",
   "execution_count": 297,
   "metadata": {},
   "outputs": [],
   "source": [
    "# Calculating RFM\n",
    "\n",
    "averagespend = df2.groupby('CUST_CODE').agg({'SHOP_DATE': lambda date: (current - date.max()).days,\n",
    "                                        'BASKET_ID': 'nunique',\n",
    "                                        'Total_Spends': 'mean'})"
   ]
  },
  {
   "cell_type": "code",
   "execution_count": 366,
   "metadata": {},
   "outputs": [
    {
     "data": {
      "text/html": [
       "<div>\n",
       "<style scoped>\n",
       "    .dataframe tbody tr th:only-of-type {\n",
       "        vertical-align: middle;\n",
       "    }\n",
       "\n",
       "    .dataframe tbody tr th {\n",
       "        vertical-align: top;\n",
       "    }\n",
       "\n",
       "    .dataframe thead th {\n",
       "        text-align: right;\n",
       "    }\n",
       "</style>\n",
       "<table border=\"1\" class=\"dataframe\">\n",
       "  <thead>\n",
       "    <tr style=\"text-align: right;\">\n",
       "      <th></th>\n",
       "      <th>CUST_CODE</th>\n",
       "      <th>SHOP_DATE</th>\n",
       "      <th>diff</th>\n",
       "    </tr>\n",
       "  </thead>\n",
       "  <tbody>\n",
       "    <tr>\n",
       "      <th>25981</th>\n",
       "      <td>CUST0000000013</td>\n",
       "      <td>2007-04-23</td>\n",
       "      <td>NaT</td>\n",
       "    </tr>\n",
       "    <tr>\n",
       "      <th>11826</th>\n",
       "      <td>CUST0000000013</td>\n",
       "      <td>2007-05-22</td>\n",
       "      <td>29 days</td>\n",
       "    </tr>\n",
       "    <tr>\n",
       "      <th>11057</th>\n",
       "      <td>CUST0000000013</td>\n",
       "      <td>2007-06-01</td>\n",
       "      <td>10 days</td>\n",
       "    </tr>\n",
       "    <tr>\n",
       "      <th>11389</th>\n",
       "      <td>CUST0000000013</td>\n",
       "      <td>2007-07-10</td>\n",
       "      <td>39 days</td>\n",
       "    </tr>\n",
       "    <tr>\n",
       "      <th>11222</th>\n",
       "      <td>CUST0000000013</td>\n",
       "      <td>2007-07-19</td>\n",
       "      <td>9 days</td>\n",
       "    </tr>\n",
       "  </tbody>\n",
       "</table>\n",
       "</div>"
      ],
      "text/plain": [
       "            CUST_CODE  SHOP_DATE    diff\n",
       "25981  CUST0000000013 2007-04-23     NaT\n",
       "11826  CUST0000000013 2007-05-22 29 days\n",
       "11057  CUST0000000013 2007-06-01 10 days\n",
       "11389  CUST0000000013 2007-07-10 39 days\n",
       "11222  CUST0000000013 2007-07-19  9 days"
      ]
     },
     "execution_count": 366,
     "metadata": {},
     "output_type": "execute_result"
    }
   ],
   "source": [
    "#new_cons = pd.read_csv('Correct_Std.csv')\n",
    "df6.head()"
   ]
  },
  {
   "cell_type": "code",
   "execution_count": 317,
   "metadata": {},
   "outputs": [
    {
     "data": {
      "text/html": [
       "<div>\n",
       "<style scoped>\n",
       "    .dataframe tbody tr th:only-of-type {\n",
       "        vertical-align: middle;\n",
       "    }\n",
       "\n",
       "    .dataframe tbody tr th {\n",
       "        vertical-align: top;\n",
       "    }\n",
       "\n",
       "    .dataframe thead th {\n",
       "        text-align: right;\n",
       "    }\n",
       "</style>\n",
       "<table border=\"1\" class=\"dataframe\">\n",
       "  <thead>\n",
       "    <tr style=\"text-align: right;\">\n",
       "      <th></th>\n",
       "      <th>Row Labels</th>\n",
       "      <th>StdDev of diff</th>\n",
       "    </tr>\n",
       "  </thead>\n",
       "  <tbody>\n",
       "    <tr>\n",
       "      <th>0</th>\n",
       "      <td>CUST0000000013</td>\n",
       "      <td>27.631010</td>\n",
       "    </tr>\n",
       "    <tr>\n",
       "      <th>1</th>\n",
       "      <td>CUST0000000055</td>\n",
       "      <td>57.188189</td>\n",
       "    </tr>\n",
       "    <tr>\n",
       "      <th>2</th>\n",
       "      <td>CUST0000000679</td>\n",
       "      <td>59.435054</td>\n",
       "    </tr>\n",
       "    <tr>\n",
       "      <th>3</th>\n",
       "      <td>CUST0000001052</td>\n",
       "      <td>20.222441</td>\n",
       "    </tr>\n",
       "    <tr>\n",
       "      <th>4</th>\n",
       "      <td>CUST0000001058</td>\n",
       "      <td>46.669048</td>\n",
       "    </tr>\n",
       "  </tbody>\n",
       "</table>\n",
       "</div>"
      ],
      "text/plain": [
       "       Row Labels  StdDev of diff\n",
       "0  CUST0000000013       27.631010\n",
       "1  CUST0000000055       57.188189\n",
       "2  CUST0000000679       59.435054\n",
       "3  CUST0000001052       20.222441\n",
       "4  CUST0000001058       46.669048"
      ]
     },
     "execution_count": 317,
     "metadata": {},
     "output_type": "execute_result"
    }
   ],
   "source": [
    "#new_cons.head()"
   ]
  },
  {
   "cell_type": "code",
   "execution_count": 318,
   "metadata": {},
   "outputs": [],
   "source": [
    "#new_cons['c_q'] = pd.qcut(new_cons['StdDev of diff'], 4, std_label)"
   ]
  },
  {
   "cell_type": "code",
   "execution_count": 320,
   "metadata": {},
   "outputs": [
    {
     "data": {
      "text/html": [
       "<div>\n",
       "<style scoped>\n",
       "    .dataframe tbody tr th:only-of-type {\n",
       "        vertical-align: middle;\n",
       "    }\n",
       "\n",
       "    .dataframe tbody tr th {\n",
       "        vertical-align: top;\n",
       "    }\n",
       "\n",
       "    .dataframe thead th {\n",
       "        text-align: right;\n",
       "    }\n",
       "</style>\n",
       "<table border=\"1\" class=\"dataframe\">\n",
       "  <thead>\n",
       "    <tr style=\"text-align: right;\">\n",
       "      <th></th>\n",
       "      <th>Row Labels</th>\n",
       "      <th>StdDev of diff</th>\n",
       "      <th>c_q</th>\n",
       "    </tr>\n",
       "  </thead>\n",
       "  <tbody>\n",
       "    <tr>\n",
       "      <th>0</th>\n",
       "      <td>CUST0000000013</td>\n",
       "      <td>27.631010</td>\n",
       "      <td>2</td>\n",
       "    </tr>\n",
       "    <tr>\n",
       "      <th>1</th>\n",
       "      <td>CUST0000000055</td>\n",
       "      <td>57.188189</td>\n",
       "      <td>1</td>\n",
       "    </tr>\n",
       "    <tr>\n",
       "      <th>2</th>\n",
       "      <td>CUST0000000679</td>\n",
       "      <td>59.435054</td>\n",
       "      <td>1</td>\n",
       "    </tr>\n",
       "    <tr>\n",
       "      <th>3</th>\n",
       "      <td>CUST0000001052</td>\n",
       "      <td>20.222441</td>\n",
       "      <td>2</td>\n",
       "    </tr>\n",
       "    <tr>\n",
       "      <th>4</th>\n",
       "      <td>CUST0000001058</td>\n",
       "      <td>46.669048</td>\n",
       "      <td>1</td>\n",
       "    </tr>\n",
       "  </tbody>\n",
       "</table>\n",
       "</div>"
      ],
      "text/plain": [
       "       Row Labels  StdDev of diff c_q\n",
       "0  CUST0000000013       27.631010   2\n",
       "1  CUST0000000055       57.188189   1\n",
       "2  CUST0000000679       59.435054   1\n",
       "3  CUST0000001052       20.222441   2\n",
       "4  CUST0000001058       46.669048   1"
      ]
     },
     "metadata": {},
     "output_type": "display_data"
    },
    {
     "data": {
      "text/plain": [
       "(4356, 3)"
      ]
     },
     "metadata": {},
     "output_type": "display_data"
    }
   ],
   "source": [
    "#display(new_cons.head())\n",
    "#display(new_cons.shape)"
   ]
  },
  {
   "cell_type": "code",
   "execution_count": 321,
   "metadata": {},
   "outputs": [],
   "source": [
    "#new_cons.to_csv(r'/Users/adityakamboj/Desktop/Dunn/new_cons.csv')"
   ]
  },
  {
   "cell_type": "code",
   "execution_count": 401,
   "metadata": {},
   "outputs": [],
   "source": [
    "cust_data = df1.groupby(['CUST_CODE', 'CUST_PRICE_SENSITIVITY']).agg({'SHOP_DATE': lambda date: (current - date.max()).days,\n",
    "                                        'BASKET_ID': 'nunique',\n",
    "                                        'Total_Spends': 'sum'})"
   ]
  },
  {
   "cell_type": "code",
   "execution_count": 402,
   "metadata": {},
   "outputs": [
    {
     "data": {
      "text/plain": [
       "(5000, 3)"
      ]
     },
     "execution_count": 402,
     "metadata": {},
     "output_type": "execute_result"
    }
   ],
   "source": [
    "cust_data.shape"
   ]
  },
  {
   "cell_type": "code",
   "execution_count": 395,
   "metadata": {},
   "outputs": [],
   "source": [
    "cust_data1 = df1.groupby(['CUST_CODE', 'CUST_LIFESTAGE']).agg({\n",
    "                                        'Total_Spends': 'sum'})"
   ]
  },
  {
   "cell_type": "code",
   "execution_count": 397,
   "metadata": {},
   "outputs": [
    {
     "data": {
      "text/plain": [
       "(4479, 1)"
      ]
     },
     "execution_count": 397,
     "metadata": {},
     "output_type": "execute_result"
    }
   ],
   "source": [
    "cust_data1.shape"
   ]
  },
  {
   "cell_type": "code",
   "execution_count": 417,
   "metadata": {},
   "outputs": [],
   "source": [
    "#cust_data.to_csv(r'/Users/adityakamboj/Desktop/Dunn/cust_data.csv')\n",
    "#cust_data1.to_csv(r'/Users/adityakamboj/Desktop/Dunn/cust_data1.csv')"
   ]
  },
  {
   "cell_type": "code",
   "execution_count": 423,
   "metadata": {},
   "outputs": [],
   "source": [
    "basket_data = df1.groupby(['CUST_CODE', 'CUST_PRICE_SENSITIVITY', 'BASKET_SIZE', 'BASKET_TYPE', 'BASKET_PRICE_SENSITIVITY'  ]).agg({'SHOP_DATE': lambda date: (current - date.max()).days,\n",
    "                                        'BASKET_ID': 'nunique',\n",
    "                                        'Total_Spends': 'sum',\n",
    "                                        'QUANTITY': 'sum'})"
   ]
  },
  {
   "cell_type": "code",
   "execution_count": 427,
   "metadata": {},
   "outputs": [
    {
     "data": {
      "text/html": [
       "<div>\n",
       "<style scoped>\n",
       "    .dataframe tbody tr th:only-of-type {\n",
       "        vertical-align: middle;\n",
       "    }\n",
       "\n",
       "    .dataframe tbody tr th {\n",
       "        vertical-align: top;\n",
       "    }\n",
       "\n",
       "    .dataframe thead th {\n",
       "        text-align: right;\n",
       "    }\n",
       "</style>\n",
       "<table border=\"1\" class=\"dataframe\">\n",
       "  <thead>\n",
       "    <tr style=\"text-align: right;\">\n",
       "      <th></th>\n",
       "      <th></th>\n",
       "      <th></th>\n",
       "      <th></th>\n",
       "      <th></th>\n",
       "      <th>SHOP_DATE</th>\n",
       "      <th>BASKET_ID</th>\n",
       "      <th>Total_Spends</th>\n",
       "      <th>QUANTITY</th>\n",
       "    </tr>\n",
       "    <tr>\n",
       "      <th>CUST_CODE</th>\n",
       "      <th>CUST_PRICE_SENSITIVITY</th>\n",
       "      <th>BASKET_SIZE</th>\n",
       "      <th>BASKET_TYPE</th>\n",
       "      <th>BASKET_PRICE_SENSITIVITY</th>\n",
       "      <th></th>\n",
       "      <th></th>\n",
       "      <th></th>\n",
       "      <th></th>\n",
       "    </tr>\n",
       "  </thead>\n",
       "  <tbody>\n",
       "    <tr>\n",
       "      <th rowspan=\"4\" valign=\"top\">CUST0000000013</th>\n",
       "      <th rowspan=\"4\" valign=\"top\">MM</th>\n",
       "      <th rowspan=\"2\" valign=\"top\">L</th>\n",
       "      <th>Full Shop</th>\n",
       "      <th>MM</th>\n",
       "      <td>402</td>\n",
       "      <td>1</td>\n",
       "      <td>36.24</td>\n",
       "      <td>26</td>\n",
       "    </tr>\n",
       "    <tr>\n",
       "      <th>Top Up</th>\n",
       "      <th>MM</th>\n",
       "      <td>158</td>\n",
       "      <td>6</td>\n",
       "      <td>194.27</td>\n",
       "      <td>79</td>\n",
       "    </tr>\n",
       "    <tr>\n",
       "      <th>M</th>\n",
       "      <th>Small Shop</th>\n",
       "      <th>UM</th>\n",
       "      <td>139</td>\n",
       "      <td>2</td>\n",
       "      <td>24.13</td>\n",
       "      <td>12</td>\n",
       "    </tr>\n",
       "    <tr>\n",
       "      <th>S</th>\n",
       "      <th>Small Shop</th>\n",
       "      <th>MM</th>\n",
       "      <td>265</td>\n",
       "      <td>3</td>\n",
       "      <td>6.48</td>\n",
       "      <td>5</td>\n",
       "    </tr>\n",
       "    <tr>\n",
       "      <th>CUST0000000055</th>\n",
       "      <th>LA</th>\n",
       "      <th>L</th>\n",
       "      <th>Top Up</th>\n",
       "      <th>LA</th>\n",
       "      <td>57</td>\n",
       "      <td>5</td>\n",
       "      <td>1461.44</td>\n",
       "      <td>159</td>\n",
       "    </tr>\n",
       "  </tbody>\n",
       "</table>\n",
       "</div>"
      ],
      "text/plain": [
       "                                                                                        SHOP_DATE  \\\n",
       "CUST_CODE      CUST_PRICE_SENSITIVITY BASKET_SIZE BASKET_TYPE BASKET_PRICE_SENSITIVITY              \n",
       "CUST0000000013 MM                     L           Full Shop   MM                              402   \n",
       "                                                  Top Up      MM                              158   \n",
       "                                      M           Small Shop  UM                              139   \n",
       "                                      S           Small Shop  MM                              265   \n",
       "CUST0000000055 LA                     L           Top Up      LA                               57   \n",
       "\n",
       "                                                                                        BASKET_ID  \\\n",
       "CUST_CODE      CUST_PRICE_SENSITIVITY BASKET_SIZE BASKET_TYPE BASKET_PRICE_SENSITIVITY              \n",
       "CUST0000000013 MM                     L           Full Shop   MM                                1   \n",
       "                                                  Top Up      MM                                6   \n",
       "                                      M           Small Shop  UM                                2   \n",
       "                                      S           Small Shop  MM                                3   \n",
       "CUST0000000055 LA                     L           Top Up      LA                                5   \n",
       "\n",
       "                                                                                        Total_Spends  \\\n",
       "CUST_CODE      CUST_PRICE_SENSITIVITY BASKET_SIZE BASKET_TYPE BASKET_PRICE_SENSITIVITY                 \n",
       "CUST0000000013 MM                     L           Full Shop   MM                               36.24   \n",
       "                                                  Top Up      MM                              194.27   \n",
       "                                      M           Small Shop  UM                               24.13   \n",
       "                                      S           Small Shop  MM                                6.48   \n",
       "CUST0000000055 LA                     L           Top Up      LA                             1461.44   \n",
       "\n",
       "                                                                                        QUANTITY  \n",
       "CUST_CODE      CUST_PRICE_SENSITIVITY BASKET_SIZE BASKET_TYPE BASKET_PRICE_SENSITIVITY            \n",
       "CUST0000000013 MM                     L           Full Shop   MM                              26  \n",
       "                                                  Top Up      MM                              79  \n",
       "                                      M           Small Shop  UM                              12  \n",
       "                                      S           Small Shop  MM                               5  \n",
       "CUST0000000055 LA                     L           Top Up      LA                             159  "
      ]
     },
     "metadata": {},
     "output_type": "display_data"
    },
    {
     "data": {
      "text/plain": [
       "(44129, 4)"
      ]
     },
     "metadata": {},
     "output_type": "display_data"
    }
   ],
   "source": [
    "display(basket_data.head())\n",
    "display(basket_data.shape)"
   ]
  },
  {
   "cell_type": "code",
   "execution_count": 428,
   "metadata": {},
   "outputs": [],
   "source": [
    "basket_data = basket_data.reset_index()"
   ]
  },
  {
   "cell_type": "code",
   "execution_count": 429,
   "metadata": {},
   "outputs": [],
   "source": [
    "basket_data.to_csv(r'/Users/adityakamboj/Desktop/Dunn/basket_data.csv')"
   ]
  },
  {
   "cell_type": "markdown",
   "metadata": {},
   "source": [
    "## K-means"
   ]
  },
  {
   "cell_type": "markdown",
   "metadata": {},
   "source": [
    "Following steps were taken:\n",
    "1. skewness of the relevant variables was checked\n",
    "2. Log transformation to make distribution better\n",
    "3. Standardization was performed\n",
    "4. Ran K-means\n",
    "5. Original data and cluster data was joined to calculate summary stats for each cluster\n",
    "6. Snake plot for viz"
   ]
  },
  {
   "cell_type": "code",
   "execution_count": 535,
   "metadata": {},
   "outputs": [],
   "source": [
    "import seaborn as sns"
   ]
  },
  {
   "cell_type": "code",
   "execution_count": 536,
   "metadata": {},
   "outputs": [
    {
     "data": {
      "text/plain": [
       "Index(['recency', 'frequency', 'monetary value', 'Con'], dtype='object')"
      ]
     },
     "execution_count": 536,
     "metadata": {},
     "output_type": "execute_result"
    }
   ],
   "source": [
    "rfmc_km = pd.read_csv('rfmc_km.csv')\n",
    "rfmc_km = rfmc_km[['recency', 'frequency', 'monetary value', 'Con']]\n",
    "rfmc_km.columns"
   ]
  },
  {
   "cell_type": "code",
   "execution_count": 537,
   "metadata": {},
   "outputs": [
    {
     "name": "stderr",
     "output_type": "stream",
     "text": [
      "/Users/adityakamboj/anaconda3/lib/python3.7/site-packages/scipy/stats/stats.py:1713: FutureWarning: Using a non-tuple sequence for multidimensional indexing is deprecated; use `arr[tuple(seq)]` instead of `arr[seq]`. In the future this will be interpreted as an array index, `arr[np.array(seq)]`, which will result either in an error or a different result.\n",
      "  return np.add.reduce(sorted[indexer] * weights, axis=axis) / sumval\n"
     ]
    },
    {
     "data": {
      "image/png": "[encoded data removed]",
      "text/plain": [
       "<Figure size 432x288 with 1 Axes>"
      ]
     },
     "metadata": {
      "needs_background": "light"
     },
     "output_type": "display_data"
    }
   ],
   "source": [
    "sns.distplot(rfmc_km['recency'])\n",
    "plt.show()"
   ]
  },
  {
   "cell_type": "code",
   "execution_count": 538,
   "metadata": {},
   "outputs": [
    {
     "data": {
      "image/png": "[encoded data removed]",
      "text/plain": [
       "<Figure size 432x288 with 1 Axes>"
      ]
     },
     "metadata": {
      "needs_background": "light"
     },
     "output_type": "display_data"
    }
   ],
   "source": [
    "sns.distplot(rfmc_km['frequency'])\n",
    "plt.show()"
   ]
  },
  {
   "cell_type": "code",
   "execution_count": 539,
   "metadata": {},
   "outputs": [],
   "source": [
    "import numpy as np"
   ]
  },
  {
   "cell_type": "code",
   "execution_count": 540,
   "metadata": {},
   "outputs": [
    {
     "data": {
      "image/png": "[encoded data removed]",
      "text/plain": [
       "<Figure size 432x288 with 1 Axes>"
      ]
     },
     "metadata": {
      "needs_background": "light"
     },
     "output_type": "display_data"
    }
   ],
   "source": [
    "recency_log = np.log(rfmc_km['recency'])\n",
    "sns.distplot(recency_log)\n",
    "plt.show()"
   ]
  },
  {
   "cell_type": "code",
   "execution_count": 541,
   "metadata": {},
   "outputs": [
    {
     "data": {
      "image/png": "[encoded data removed]",
      "text/plain": [
       "<Figure size 432x288 with 1 Axes>"
      ]
     },
     "metadata": {
      "needs_background": "light"
     },
     "output_type": "display_data"
    }
   ],
   "source": [
    "frequency_log = np.log(rfmc_km['frequency'])\n",
    "sns.distplot(frequency_log)\n",
    "plt.show()"
   ]
  },
  {
   "cell_type": "code",
   "execution_count": 542,
   "metadata": {},
   "outputs": [
    {
     "data": {
      "text/html": [
       "<div>\n",
       "<style scoped>\n",
       "    .dataframe tbody tr th:only-of-type {\n",
       "        vertical-align: middle;\n",
       "    }\n",
       "\n",
       "    .dataframe tbody tr th {\n",
       "        vertical-align: top;\n",
       "    }\n",
       "\n",
       "    .dataframe thead th {\n",
       "        text-align: right;\n",
       "    }\n",
       "</style>\n",
       "<table border=\"1\" class=\"dataframe\">\n",
       "  <thead>\n",
       "    <tr style=\"text-align: right;\">\n",
       "      <th></th>\n",
       "      <th>recency</th>\n",
       "      <th>frequency</th>\n",
       "      <th>monetary value</th>\n",
       "      <th>Con</th>\n",
       "    </tr>\n",
       "  </thead>\n",
       "  <tbody>\n",
       "    <tr>\n",
       "      <th>count</th>\n",
       "      <td>4356.000000</td>\n",
       "      <td>4356.000000</td>\n",
       "      <td>4356.000000</td>\n",
       "      <td>4356.000000</td>\n",
       "    </tr>\n",
       "    <tr>\n",
       "      <th>mean</th>\n",
       "      <td>58.158632</td>\n",
       "      <td>89.456382</td>\n",
       "      <td>2335.181786</td>\n",
       "      <td>39.617827</td>\n",
       "    </tr>\n",
       "    <tr>\n",
       "      <th>std</th>\n",
       "      <td>136.788097</td>\n",
       "      <td>104.182290</td>\n",
       "      <td>4846.671779</td>\n",
       "      <td>70.171355</td>\n",
       "    </tr>\n",
       "    <tr>\n",
       "      <th>min</th>\n",
       "      <td>1.000000</td>\n",
       "      <td>2.000000</td>\n",
       "      <td>0.030000</td>\n",
       "      <td>0.500000</td>\n",
       "    </tr>\n",
       "    <tr>\n",
       "      <th>25%</th>\n",
       "      <td>4.000000</td>\n",
       "      <td>15.000000</td>\n",
       "      <td>230.280000</td>\n",
       "      <td>5.231868</td>\n",
       "    </tr>\n",
       "    <tr>\n",
       "      <th>50%</th>\n",
       "      <td>11.000000</td>\n",
       "      <td>55.000000</td>\n",
       "      <td>987.450000</td>\n",
       "      <td>13.053707</td>\n",
       "    </tr>\n",
       "    <tr>\n",
       "      <th>75%</th>\n",
       "      <td>39.000000</td>\n",
       "      <td>128.250000</td>\n",
       "      <td>3060.360000</td>\n",
       "      <td>41.544285</td>\n",
       "    </tr>\n",
       "    <tr>\n",
       "      <th>max</th>\n",
       "      <td>814.000000</td>\n",
       "      <td>926.000000</td>\n",
       "      <td>205367.280000</td>\n",
       "      <td>570.635172</td>\n",
       "    </tr>\n",
       "  </tbody>\n",
       "</table>\n",
       "</div>"
      ],
      "text/plain": [
       "           recency    frequency  monetary value          Con\n",
       "count  4356.000000  4356.000000     4356.000000  4356.000000\n",
       "mean     58.158632    89.456382     2335.181786    39.617827\n",
       "std     136.788097   104.182290     4846.671779    70.171355\n",
       "min       1.000000     2.000000        0.030000     0.500000\n",
       "25%       4.000000    15.000000      230.280000     5.231868\n",
       "50%      11.000000    55.000000      987.450000    13.053707\n",
       "75%      39.000000   128.250000     3060.360000    41.544285\n",
       "max     814.000000   926.000000   205367.280000   570.635172"
      ]
     },
     "execution_count": 542,
     "metadata": {},
     "output_type": "execute_result"
    }
   ],
   "source": [
    "rfmc_km.describe()"
   ]
  },
  {
   "cell_type": "code",
   "execution_count": 543,
   "metadata": {},
   "outputs": [
    {
     "data": {
      "text/plain": [
       "<matplotlib.axes._subplots.AxesSubplot at 0x1a1d5ccf98>"
      ]
     },
     "execution_count": 543,
     "metadata": {},
     "output_type": "execute_result"
    },
    {
     "data": {
      "image/png": "[encoded data removed]",
      "text/plain": [
       "<Figure size 432x288 with 1 Axes>"
      ]
     },
     "metadata": {
      "needs_background": "light"
     },
     "output_type": "display_data"
    }
   ],
   "source": [
    "sns.distplot(rfmc_km['Con'])"
   ]
  },
  {
   "cell_type": "markdown",
   "metadata": {},
   "source": [
    "#### without log"
   ]
  },
  {
   "cell_type": "code",
   "execution_count": 544,
   "metadata": {},
   "outputs": [
    {
     "name": "stderr",
     "output_type": "stream",
     "text": [
      "/Users/adityakamboj/anaconda3/lib/python3.7/site-packages/sklearn/preprocessing/data.py:625: DataConversionWarning: Data with input dtype int64, float64 were all converted to float64 by StandardScaler.\n",
      "  return self.partial_fit(X, y)\n",
      "/Users/adityakamboj/anaconda3/lib/python3.7/site-packages/ipykernel_launcher.py:5: DataConversionWarning: Data with input dtype int64, float64 were all converted to float64 by StandardScaler.\n",
      "  \"\"\"\n"
     ]
    }
   ],
   "source": [
    "from sklearn.preprocessing import StandardScaler\n",
    "scaler = StandardScaler()\n",
    "\n",
    "scaler.fit(rfmc_km)\n",
    "rfmc_km_normalized = scaler.transform(rfmc_km)"
   ]
  },
  {
   "cell_type": "code",
   "execution_count": 545,
   "metadata": {},
   "outputs": [
    {
     "name": "stdout",
     "output_type": "stream",
     "text": [
      "[-6.52472668e-18  2.12053617e-17 -2.03897709e-17 -1.65157144e-17] 0\n",
      "[1. 1. 1. 1.] 2\n"
     ]
    }
   ],
   "source": [
    "print(rfmc_km_normalized.mean(axis=0),round(0))\n",
    "print(rfmc_km_normalized.std(axis=0),round(2))"
   ]
  },
  {
   "cell_type": "code",
   "execution_count": 549,
   "metadata": {},
   "outputs": [],
   "source": [
    "rfmc_km_log = np.log(rfmc_km)"
   ]
  },
  {
   "cell_type": "code",
   "execution_count": 551,
   "metadata": {},
   "outputs": [
    {
     "data": {
      "text/html": [
       "<div>\n",
       "<style scoped>\n",
       "    .dataframe tbody tr th:only-of-type {\n",
       "        vertical-align: middle;\n",
       "    }\n",
       "\n",
       "    .dataframe tbody tr th {\n",
       "        vertical-align: top;\n",
       "    }\n",
       "\n",
       "    .dataframe thead th {\n",
       "        text-align: right;\n",
       "    }\n",
       "</style>\n",
       "<table border=\"1\" class=\"dataframe\">\n",
       "  <thead>\n",
       "    <tr style=\"text-align: right;\">\n",
       "      <th></th>\n",
       "      <th>recency</th>\n",
       "      <th>frequency</th>\n",
       "      <th>monetary value</th>\n",
       "      <th>Con</th>\n",
       "    </tr>\n",
       "  </thead>\n",
       "  <tbody>\n",
       "    <tr>\n",
       "      <th>0</th>\n",
       "      <td>4.934474</td>\n",
       "      <td>2.484907</td>\n",
       "      <td>5.564980</td>\n",
       "      <td>3.318939</td>\n",
       "    </tr>\n",
       "    <tr>\n",
       "      <th>1</th>\n",
       "      <td>2.944439</td>\n",
       "      <td>2.708050</td>\n",
       "      <td>7.890414</td>\n",
       "      <td>4.046347</td>\n",
       "    </tr>\n",
       "    <tr>\n",
       "      <th>2</th>\n",
       "      <td>4.290459</td>\n",
       "      <td>2.639057</td>\n",
       "      <td>4.953924</td>\n",
       "      <td>4.084884</td>\n",
       "    </tr>\n",
       "    <tr>\n",
       "      <th>3</th>\n",
       "      <td>3.135494</td>\n",
       "      <td>3.433987</td>\n",
       "      <td>5.758586</td>\n",
       "      <td>3.006793</td>\n",
       "    </tr>\n",
       "    <tr>\n",
       "      <th>4</th>\n",
       "      <td>3.806662</td>\n",
       "      <td>0.693147</td>\n",
       "      <td>4.923624</td>\n",
       "      <td>3.843081</td>\n",
       "    </tr>\n",
       "  </tbody>\n",
       "</table>\n",
       "</div>"
      ],
      "text/plain": [
       "    recency  frequency  monetary value       Con\n",
       "0  4.934474   2.484907        5.564980  3.318939\n",
       "1  2.944439   2.708050        7.890414  4.046347\n",
       "2  4.290459   2.639057        4.953924  4.084884\n",
       "3  3.135494   3.433987        5.758586  3.006793\n",
       "4  3.806662   0.693147        4.923624  3.843081"
      ]
     },
     "execution_count": 551,
     "metadata": {},
     "output_type": "execute_result"
    }
   ],
   "source": [
    "rfmc_km_log.head()\n",
    "rfmc_km_log.reset_index()\n",
    "rfmc_km_log.shape\n",
    "rfmc_km_log.head()"
   ]
  },
  {
   "cell_type": "markdown",
   "metadata": {},
   "source": [
    "#### With Log trans"
   ]
  },
  {
   "cell_type": "code",
   "execution_count": 552,
   "metadata": {},
   "outputs": [],
   "source": [
    "from sklearn.preprocessing import StandardScaler\n",
    "scaler = StandardScaler()\n",
    "\n",
    "scaler.fit(rfmc_km_log)\n",
    "rfmc_km_normalized_log = scaler.transform(rfmc_km_log)"
   ]
  },
  {
   "cell_type": "code",
   "execution_count": 553,
   "metadata": {},
   "outputs": [
    {
     "name": "stdout",
     "output_type": "stream",
     "text": [
      "[-6.36160852e-17 -8.15590835e-18 -2.12053617e-16  2.93612701e-17] 0\n",
      "[1. 1. 1. 1.] 2\n"
     ]
    }
   ],
   "source": [
    "print(rfmc_km_normalized_log.mean(axis=0),round(0))\n",
    "print(rfmc_km_normalized_log.std(axis=0),round(2))"
   ]
  },
  {
   "cell_type": "code",
   "execution_count": 565,
   "metadata": {},
   "outputs": [],
   "source": [
    "from sklearn.cluster import KMeans\n",
    "kmeans = KMeans(n_clusters = 3, random_state = 1)"
   ]
  },
  {
   "cell_type": "code",
   "execution_count": 566,
   "metadata": {},
   "outputs": [
    {
     "data": {
      "text/plain": [
       "KMeans(algorithm='auto', copy_x=True, init='k-means++', max_iter=300,\n",
       "    n_clusters=3, n_init=10, n_jobs=None, precompute_distances='auto',\n",
       "    random_state=1, tol=0.0001, verbose=0)"
      ]
     },
     "execution_count": 566,
     "metadata": {},
     "output_type": "execute_result"
    }
   ],
   "source": [
    "kmeans.fit(rfmc_km_normalized_log)"
   ]
  },
  {
   "cell_type": "code",
   "execution_count": 567,
   "metadata": {},
   "outputs": [],
   "source": [
    "cluster_labels = kmeans.labels_"
   ]
  },
  {
   "cell_type": "code",
   "execution_count": 568,
   "metadata": {},
   "outputs": [],
   "source": [
    "rfmc_km_k2 = rfmc_km.assign(Cluster = cluster_labels)"
   ]
  },
  {
   "cell_type": "code",
   "execution_count": 569,
   "metadata": {},
   "outputs": [],
   "source": [
    "#rfmc_km_log = rfmc_km_log.dropna()\n",
    "#np.isfinite(rfmc_km_log.all())\n",
    "#rfmc_km_log = rfmc_km_log.replace([np.inf, -np.inf], np.nan)\n",
    "#rfmc_km_log.shape\n",
    "#rfmc_km_log[np.isnan(rfmc_km_log['Con'])]\n",
    "#rfmc_km_log = rfmc_km_log.dropna()"
   ]
  },
  {
   "cell_type": "code",
   "execution_count": 570,
   "metadata": {},
   "outputs": [
    {
     "data": {
      "text/html": [
       "<div>\n",
       "<style scoped>\n",
       "    .dataframe tbody tr th:only-of-type {\n",
       "        vertical-align: middle;\n",
       "    }\n",
       "\n",
       "    .dataframe tbody tr th {\n",
       "        vertical-align: top;\n",
       "    }\n",
       "\n",
       "    .dataframe thead tr th {\n",
       "        text-align: left;\n",
       "    }\n",
       "\n",
       "    .dataframe thead tr:last-of-type th {\n",
       "        text-align: right;\n",
       "    }\n",
       "</style>\n",
       "<table border=\"1\" class=\"dataframe\">\n",
       "  <thead>\n",
       "    <tr>\n",
       "      <th></th>\n",
       "      <th>recency</th>\n",
       "      <th>frequency</th>\n",
       "      <th>Con</th>\n",
       "      <th colspan=\"2\" halign=\"left\">monetary value</th>\n",
       "    </tr>\n",
       "    <tr>\n",
       "      <th></th>\n",
       "      <th>mean</th>\n",
       "      <th>mean</th>\n",
       "      <th>mean</th>\n",
       "      <th>mean</th>\n",
       "      <th>count</th>\n",
       "    </tr>\n",
       "    <tr>\n",
       "      <th>Cluster</th>\n",
       "      <th></th>\n",
       "      <th></th>\n",
       "      <th></th>\n",
       "      <th></th>\n",
       "      <th></th>\n",
       "    </tr>\n",
       "  </thead>\n",
       "  <tbody>\n",
       "    <tr>\n",
       "      <th>0</th>\n",
       "      <td>23.960376</td>\n",
       "      <td>38.603761</td>\n",
       "      <td>38.915357</td>\n",
       "      <td>899.723338</td>\n",
       "      <td>1489</td>\n",
       "    </tr>\n",
       "    <tr>\n",
       "      <th>1</th>\n",
       "      <td>5.486031</td>\n",
       "      <td>171.934634</td>\n",
       "      <td>6.284950</td>\n",
       "      <td>4584.283637</td>\n",
       "      <td>1897</td>\n",
       "    </tr>\n",
       "    <tr>\n",
       "      <th>2</th>\n",
       "      <td>213.664948</td>\n",
       "      <td>6.217526</td>\n",
       "      <td>105.884265</td>\n",
       "      <td>140.183247</td>\n",
       "      <td>970</td>\n",
       "    </tr>\n",
       "  </tbody>\n",
       "</table>\n",
       "</div>"
      ],
      "text/plain": [
       "            recency   frequency         Con monetary value      \n",
       "               mean        mean        mean           mean count\n",
       "Cluster                                                         \n",
       "0         23.960376   38.603761   38.915357     899.723338  1489\n",
       "1          5.486031  171.934634    6.284950    4584.283637  1897\n",
       "2        213.664948    6.217526  105.884265     140.183247   970"
      ]
     },
     "execution_count": 570,
     "metadata": {},
     "output_type": "execute_result"
    }
   ],
   "source": [
    "rfmc_km_k2.groupby('Cluster').agg({'recency':'mean', \n",
    "                                  'frequency':'mean',\n",
    "                                  'Con':'mean',\n",
    "                                  'monetary value': ['mean','count']})"
   ]
  },
  {
   "cell_type": "code",
   "execution_count": 572,
   "metadata": {},
   "outputs": [],
   "source": [
    "rfmc_km_normalized_log = pd.DataFrame(rfmc_km_normalized_log, index = rfmc_km.index,\n",
    "                                     columns = rfmc_km.columns)"
   ]
  },
  {
   "cell_type": "code",
   "execution_count": 611,
   "metadata": {},
   "outputs": [
    {
     "data": {
      "text/plain": [
       "recency           float64\n",
       "frequency         float64\n",
       "monetary value    float64\n",
       "Con               float64\n",
       "cluster             int32\n",
       "dtype: object"
      ]
     },
     "execution_count": 611,
     "metadata": {},
     "output_type": "execute_result"
    }
   ],
   "source": [
    "rfmc_km_normalized_log['cluster'] = rfmc_km_k2['Cluster']\n",
    "\n",
    "rfmc_km_normalized_log.dtypes\n",
    "#cust_data1.to_csv(r'/Users/adityakamboj/Desktop/Dunn/cust_data1.csv')"
   ]
  },
  {
   "cell_type": "code",
   "execution_count": 612,
   "metadata": {},
   "outputs": [],
   "source": [
    "rfmc_melt = pd.melt(rfmc_km_normalized_log.reset_index(), \n",
    "                   id_vars = 'cluster',\n",
    "                   value_vars = ['recency','frequency','monetary value', 'Con'],\n",
    "                    var_name = 'Attribute',\n",
    "                    value_name = 'Value')"
   ]
  },
  {
   "cell_type": "code",
   "execution_count": 613,
   "metadata": {},
   "outputs": [
    {
     "data": {
      "image/png": "[encoded data removed]",
      "text/plain": [
       "<Figure size 432x288 with 1 Axes>"
      ]
     },
     "metadata": {
      "needs_background": "light"
     },
     "output_type": "display_data"
    }
   ],
   "source": [
    "plt.title('Snake plot of standard variables')\n",
    "sns.lineplot(x = 'Attribute', y = 'Value', hue='cluster', data = rfmc_melt)\n",
    "plt.show()"
   ]
  },
  {
   "cell_type": "code",
   "execution_count": 614,
   "metadata": {},
   "outputs": [
    {
     "data": {
      "text/html": [
       "<div>\n",
       "<style scoped>\n",
       "    .dataframe tbody tr th:only-of-type {\n",
       "        vertical-align: middle;\n",
       "    }\n",
       "\n",
       "    .dataframe tbody tr th {\n",
       "        vertical-align: top;\n",
       "    }\n",
       "\n",
       "    .dataframe thead tr th {\n",
       "        text-align: left;\n",
       "    }\n",
       "\n",
       "    .dataframe thead tr:last-of-type th {\n",
       "        text-align: right;\n",
       "    }\n",
       "</style>\n",
       "<table border=\"1\" class=\"dataframe\">\n",
       "  <thead>\n",
       "    <tr>\n",
       "      <th></th>\n",
       "      <th>recency</th>\n",
       "      <th>frequency</th>\n",
       "      <th>Con</th>\n",
       "      <th colspan=\"2\" halign=\"left\">monetary value</th>\n",
       "    </tr>\n",
       "    <tr>\n",
       "      <th></th>\n",
       "      <th>mean</th>\n",
       "      <th>mean</th>\n",
       "      <th>mean</th>\n",
       "      <th>mean</th>\n",
       "      <th>count</th>\n",
       "    </tr>\n",
       "    <tr>\n",
       "      <th>Cluster</th>\n",
       "      <th></th>\n",
       "      <th></th>\n",
       "      <th></th>\n",
       "      <th></th>\n",
       "      <th></th>\n",
       "    </tr>\n",
       "  </thead>\n",
       "  <tbody>\n",
       "    <tr>\n",
       "      <th>0</th>\n",
       "      <td>23.960376</td>\n",
       "      <td>38.603761</td>\n",
       "      <td>38.915357</td>\n",
       "      <td>899.723338</td>\n",
       "      <td>1489</td>\n",
       "    </tr>\n",
       "    <tr>\n",
       "      <th>1</th>\n",
       "      <td>5.486031</td>\n",
       "      <td>171.934634</td>\n",
       "      <td>6.284950</td>\n",
       "      <td>4584.283637</td>\n",
       "      <td>1897</td>\n",
       "    </tr>\n",
       "    <tr>\n",
       "      <th>2</th>\n",
       "      <td>213.664948</td>\n",
       "      <td>6.217526</td>\n",
       "      <td>105.884265</td>\n",
       "      <td>140.183247</td>\n",
       "      <td>970</td>\n",
       "    </tr>\n",
       "  </tbody>\n",
       "</table>\n",
       "</div>"
      ],
      "text/plain": [
       "            recency   frequency         Con monetary value      \n",
       "               mean        mean        mean           mean count\n",
       "Cluster                                                         \n",
       "0         23.960376   38.603761   38.915357     899.723338  1489\n",
       "1          5.486031  171.934634    6.284950    4584.283637  1897\n",
       "2        213.664948    6.217526  105.884265     140.183247   970"
      ]
     },
     "execution_count": 614,
     "metadata": {},
     "output_type": "execute_result"
    }
   ],
   "source": [
    "rfmc_km_k2.groupby('Cluster').agg({'recency':'mean', \n",
    "                                  'frequency':'mean',\n",
    "                                  'Con':'mean',\n",
    "                                  'monetary value': ['mean','count']})"
   ]
  },
  {
   "cell_type": "code",
   "execution_count": 616,
   "metadata": {},
   "outputs": [],
   "source": [
    "rfmc_melt.to_csv(r'/Users/adityakamboj/Desktop/Dunn/rfmc_melt.csv')\n",
    "rfmc_km_normalized_log.to_csv(r'/Users/adityakamboj/Desktop/Dunn/rfmc_km_normalized_log.csv')"
   ]
  }
 ],
 "metadata": {
  "kernelspec": {
   "display_name": "Python 3",
   "language": "python",
   "name": "python3"
  },
  "language_info": {
   "codemirror_mode": {
    "name": "ipython",
    "version": 3
   },
   "file_extension": ".py",
   "mimetype": "text/x-python",
   "name": "python",
   "nbconvert_exporter": "python",
   "pygments_lexer": "ipython3",
   "version": "3.7.1"
  }
 },
 "nbformat": 4,
 "nbformat_minor": 2
}
